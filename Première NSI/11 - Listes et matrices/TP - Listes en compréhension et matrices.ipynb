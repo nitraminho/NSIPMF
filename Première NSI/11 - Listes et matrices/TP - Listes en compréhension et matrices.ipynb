{
 "cells": [
  {
   "cell_type": "markdown",
   "metadata": {},
   "source": [
    "<center> <h1>Listes et matrices</h1></center>\n",
    " "
   ]
  },
  {
   "cell_type": "markdown",
   "metadata": {},
   "source": [
    "Nous allons ici nous intéresser aux listes et aux matrices (listes de listes).\n",
    "L'objectif est d'acquérir les notions suivantes :\n",
    "* Tableau indexé, tableau donné en compréhension\n",
    "* Dictionnaires par clés et valeurs"
   ]
  },
  {
   "cell_type": "markdown",
   "metadata": {},
   "source": [
    " ## 1. Listes données en compréhension\n",
    " \n",
    "Il peut s'avérer fastidieux de créer une liste manuellement, surtout lorsque ses éléments sont construits selon un schéma donné.\n",
    " \n",
    "Nous connaissons déjà une façon efficace en python de construire un objet similaire à une liste de nombres entiers régulièrement espacés : la fonction `range`.\n",
    "\n",
    "Voici trois algorithmes construisant une liste :"
   ]
  },
  {
   "cell_type": "code",
   "execution_count": null,
   "metadata": {},
   "outputs": [],
   "source": [
    "def algo1():\n",
    "    liste = []\n",
    "    i = 2\n",
    "    while i < 20:\n",
    "        liste.append(i)\n",
    "        i += 2\n",
    "    return liste\n",
    "        \n",
    "def algo2():\n",
    "    liste = []\n",
    "    for i in range(20):\n",
    "        if i>0 and i%2 == 0:\n",
    "            liste.append(i)\n",
    "    return liste\n",
    "\n",
    "def algo3():\n",
    "    return list(range(2,20,2))\n"
   ]
  },
  {
   "cell_type": "code",
   "execution_count": null,
   "metadata": {},
   "outputs": [],
   "source": []
  },
  {
   "cell_type": "markdown",
   "metadata": {},
   "source": [
    "**Question 1 :** Que renvoient ces trois algorithmes ? Quelles sont les variations de méthode ?"
   ]
  },
  {
   "cell_type": "raw",
   "metadata": {},
   "source": []
  },
  {
   "cell_type": "markdown",
   "metadata": {},
   "source": [
    "Python permet de construire directement une liste grâce à une instruction incluse dans la déclaration de la variable liste.\n",
    "\n",
    "Ainsi, tester la liste suivante :"
   ]
  },
  {
   "cell_type": "code",
   "execution_count": null,
   "metadata": {},
   "outputs": [],
   "source": [
    "[2*i for i in range(1,10)]"
   ]
  },
  {
   "cell_type": "markdown",
   "metadata": {},
   "source": [
    "**Question 2** : Expliquer ce que produit la liste ci-dessus."
   ]
  },
  {
   "cell_type": "raw",
   "metadata": {},
   "source": []
  },
  {
   "cell_type": "markdown",
   "metadata": {},
   "source": [
    "On parle de **liste en compréhension**.\n",
    "\n",
    "**Question 3** : Créer la liste `[0,3,6,9]` à l'aide de la fonction `range`, puis en compréhension"
   ]
  },
  {
   "cell_type": "code",
   "execution_count": null,
   "metadata": {},
   "outputs": [],
   "source": []
  },
  {
   "cell_type": "markdown",
   "metadata": {},
   "source": [
    " Corrigé : <span title=\"list(range(0,10,3))\" style=\"color:red;cursor:pointer;\">ici</span> et\n",
    " <span title=\"[3*i for i in range(4)]\" style=\"color:red;cursor:pointer;\">là</span> (passer la souris au dessus des mots)."
   ]
  },
  {
   "cell_type": "markdown",
   "metadata": {},
   "source": [
    "Voici une autre liste et un algorithme :"
   ]
  },
  {
   "cell_type": "code",
   "execution_count": null,
   "metadata": {},
   "outputs": [],
   "source": [
    "listeVrac = [1,5,-2,7,3,8,12,6,-13]\n",
    "\n",
    "def algo4(liste):\n",
    "    listeRenvoyee = []\n",
    "    for element in liste:\n",
    "        listeRenvoyee.append(2*element)\n",
    "    return listeRenvoyee\n",
    "        "
   ]
  },
  {
   "cell_type": "markdown",
   "metadata": {},
   "source": [
    "**Question 4** : Que permet l'algorithme 4 ? Vérifier avec la liste `listeVrac`."
   ]
  },
  {
   "cell_type": "raw",
   "metadata": {},
   "source": [
    "Explication ici :"
   ]
  },
  {
   "cell_type": "code",
   "execution_count": null,
   "metadata": {},
   "outputs": [],
   "source": [
    "# Test là :\n",
    "\n"
   ]
  },
  {
   "cell_type": "markdown",
   "metadata": {},
   "source": [
    "Là encore, on peut simplement définir la liste renvoyée par `algo4` pour `listeVrac` grâce à une liste en compréhension :"
   ]
  },
  {
   "cell_type": "code",
   "execution_count": null,
   "metadata": {},
   "outputs": [],
   "source": [
    "[2*element for element in listeVrac]"
   ]
  },
  {
   "cell_type": "markdown",
   "metadata": {},
   "source": [
    "**Question 5** : Créer une liste en compréhension dont les valeurs sont les opposées de celles de `listeVrac`."
   ]
  },
  {
   "cell_type": "code",
   "execution_count": null,
   "metadata": {},
   "outputs": [],
   "source": []
  },
  {
   "cell_type": "markdown",
   "metadata": {},
   "source": [
    " Corrigé : <span title=\"[-element for element in listeVrac]\" style=\"color:red;cursor:pointer;\">ici</span>."
   ]
  },
  {
   "cell_type": "markdown",
   "metadata": {},
   "source": [
    "**Question 6** : Créer une liste en compréhension qui renvoie la liste des nombres de 1000 à 0.\n",
    "\n",
    "Donner son équivalent avec `range`."
   ]
  },
  {
   "cell_type": "code",
   "execution_count": null,
   "metadata": {},
   "outputs": [],
   "source": []
  },
  {
   "cell_type": "markdown",
   "metadata": {},
   "source": [
    " Corrigé : <span title=\"[1000-i for i in range(1001)]\" style=\"color:red;cursor:pointer;\">ici</span> et\n",
    " <span title=\"list(range(1000,-1,-1))\" style=\"color:red;cursor:pointer;\">là</span>."
   ]
  },
  {
   "cell_type": "markdown",
   "metadata": {},
   "source": [
    "Pour l'instant, l'intérêt d'une liste en compréhension semble assez limité : la fonction `range` fait très bien le travail pour des listes régulièrement ordonnées (c'est-à-dire des débuts de *suites arithmétiques*).\n",
    "\n",
    "Mais on peut voir des expressions où l'intérêt est plus grand. Par exemple pour des listes de flottants (que `range` ne génère pas directement)."
   ]
  },
  {
   "cell_type": "code",
   "execution_count": null,
   "metadata": {},
   "outputs": [],
   "source": [
    "[i/5 for i in range(10)]"
   ]
  },
  {
   "cell_type": "markdown",
   "metadata": {},
   "source": [
    "**Question 7** : Générer la liste des nombres décimaux de -5 à 5 avec un pas de 0,2."
   ]
  },
  {
   "cell_type": "code",
   "execution_count": null,
   "metadata": {},
   "outputs": [],
   "source": []
  },
  {
   "cell_type": "markdown",
   "metadata": {},
   "source": [
    "Corrigé : <span title=\"[i/5 for i in range(-25,26)]\" style=\"color:red;cursor:pointer;\">ici</span>.\n"
   ]
  },
  {
   "cell_type": "markdown",
   "metadata": {},
   "source": [
    "Encore mieux, pour faire un tableau de valeur de fonction :"
   ]
  },
  {
   "cell_type": "code",
   "execution_count": null,
   "metadata": {},
   "outputs": [],
   "source": [
    "def f(x):\n",
    "    return x**3-2*x+1\n",
    "\n",
    "# Liste en compréhension avec f :\n",
    "listeImages = [f(i) for i in range(10)]\n",
    "\n",
    "print(listeImages)"
   ]
  },
  {
   "cell_type": "markdown",
   "metadata": {},
   "source": [
    "**Question 8** : Que contient `listeImages` ?"
   ]
  },
  {
   "cell_type": "raw",
   "metadata": {},
   "source": []
  },
  {
   "cell_type": "markdown",
   "metadata": {},
   "source": [
    "**Question 9** : Créer la liste des antécédents puis la liste des images pour les valeurs de la fonction $g : x \\mapsto \\dfrac{1}{x^3-7}$ pour toutes les valeurs comprises entre -5 et 5, pour un pas de 0,5."
   ]
  },
  {
   "cell_type": "code",
   "execution_count": null,
   "metadata": {},
   "outputs": [],
   "source": []
  },
  {
   "cell_type": "markdown",
   "metadata": {},
   "source": [
    " Corrigé : <span title=\"listeAntecedents = [i/2 for i in range(-10,11)]\n",
    "\" style=\"color:red;cursor:pointer;\">ici</span> et\n",
    " <span title=\"listeImages = [1/(x**3-7) for x in listeAntecedents]\" style=\"color:red;cursor:pointer;\">là</span>."
   ]
  },
  {
   "cell_type": "markdown",
   "metadata": {},
   "source": [
    "On peut alors construire des nuages de points, via la bibliothèque `mathplotlib` :"
   ]
  },
  {
   "cell_type": "code",
   "execution_count": null,
   "metadata": {},
   "outputs": [],
   "source": [
    "# L'instruction suivante permet de représenter le graphique dans la console Python :\n",
    "%matplotlib inline\n",
    "\n",
    "# Importation de l'objet pyplot (renommé plt)\n",
    "import matplotlib.pyplot as plt\n",
    "\n",
    "# Construction de la courbe puis affichage :\n",
    "plt.plot([x for x in range(100)],[x**2 for x in range(100)])\n",
    "plt.show()"
   ]
  },
  {
   "cell_type": "markdown",
   "metadata": {},
   "source": [
    "**Question 10** : Quelle fonction est représentée ci-dessus ?"
   ]
  },
  {
   "cell_type": "raw",
   "metadata": {},
   "source": []
  },
  {
   "cell_type": "markdown",
   "metadata": {},
   "source": [
    "**Question 11 :** Représenter dans un graphique la fonction $h: x \\mapsto \\cos(x)$ dans l'intervalle $[-10;10]$ (on prendra un pas de 0,1).\n",
    "\n",
    "*Remarque* : pas besoin de resaisir les instructions `%matplotlib inline` et `import matplotlib.pyplot as plt`. Il faut par contre importer la fonction `cos` (bibliothèque `math`)."
   ]
  },
  {
   "cell_type": "code",
   "execution_count": null,
   "metadata": {},
   "outputs": [],
   "source": []
  },
  {
   "cell_type": "markdown",
   "metadata": {},
   "source": [
    "Corrigé : <span title=\"from math import cos\n",
    "listeAnt = [i/10 for i in range(-100,101)]\n",
    "listeIm = [cos(x) for x in listeIm]\n",
    "plt.plot(listeAnt,listeIm)\n",
    "plt.show()\" style=\"color:red;cursor:pointer;\">ici</span>.\n"
   ]
  },
  {
   "cell_type": "markdown",
   "metadata": {},
   "source": [
    "On peut aussi générer une liste de nombres aléatoires.\n",
    "\n",
    "**Question 12** : Générer une liste de 15 lancers consécutif de dé cubique.\n",
    "\n",
    "*Remarque* : on fera appel à la fonction `randint` de la bibliothèque `random`. En cas de doute sur le fonctionnement de cette fonction, lancer `help(randint)` dans la console."
   ]
  },
  {
   "cell_type": "code",
   "execution_count": null,
   "metadata": {},
   "outputs": [],
   "source": []
  },
  {
   "cell_type": "markdown",
   "metadata": {},
   "source": [
    "Corrigé : <span title=\"from random import randint\n",
    "[randint(1,6) for i in range(15)]\" style=\"color:red;cursor:pointer;\">ici</span>."
   ]
  },
  {
   "cell_type": "markdown",
   "metadata": {},
   "source": [
    "Les listes en compréhensions sont aussi l'occasion de filtrer d'autres listes.\n",
    "\n",
    "Prenons la fonction suivante :"
   ]
  },
  {
   "cell_type": "code",
   "execution_count": null,
   "metadata": {},
   "outputs": [],
   "source": [
    "def algo5(liste):\n",
    "    listeRenvoyee = []\n",
    "    for element in liste:\n",
    "        if element>0:\n",
    "            listeRenvoyee.append(element)\n",
    "    return listeRenvoyee\n",
    "        "
   ]
  },
  {
   "cell_type": "markdown",
   "metadata": {},
   "source": [
    "**Question 13** : Que fait la fonction `algo5` ?"
   ]
  },
  {
   "cell_type": "raw",
   "metadata": {},
   "source": []
  },
  {
   "cell_type": "markdown",
   "metadata": {},
   "source": [
    "Plutôt que de faire appel à cet algorithme, on peut aussi créer une liste en compréhension qui est un filtre des éléments d'une première liste.\n",
    "Reprenons la liste `listeVrac` et filtrons la comme pour l'algo 5 :\n"
   ]
  },
  {
   "cell_type": "code",
   "execution_count": null,
   "metadata": {},
   "outputs": [],
   "source": [
    "# Affichage de listeVrac\n",
    "print(listeVrac)\n",
    "\n",
    "# Filtrage de listeVrac\n",
    "[element for element in listeVrac if element > 0]"
   ]
  },
  {
   "cell_type": "markdown",
   "metadata": {},
   "source": [
    "**Question 14** : Filtrer `listeVrac` de façon à ne sortir que les multiples de 3."
   ]
  },
  {
   "cell_type": "code",
   "execution_count": null,
   "metadata": {},
   "outputs": [],
   "source": []
  },
  {
   "cell_type": "markdown",
   "metadata": {},
   "source": [
    "Corrigé : <span title=\"[element for element in listeVrac if element %3 == 0]\" style=\"color:red;cursor:pointer;\">ici</span>.\n"
   ]
  },
  {
   "cell_type": "markdown",
   "metadata": {},
   "source": [
    "**Question 15** : Créer une `liste1` de 100 nombres aléatoires entiers entre -500 et 500.\n",
    "Transformer cette `liste1` en une `liste2` dont chaque élément vaut un dixième de la valeur correspondante dans `liste1`.\n",
    "Créer ensuite une `liste3` en compréhension filtrant `liste2` en ne sortant que les nombres négatif et entiers.\n",
    "\n",
    "*Remarque* : un nombre entier est égal à sa **partie entière** obtenue avec `int(nombre)`"
   ]
  },
  {
   "cell_type": "code",
   "execution_count": null,
   "metadata": {},
   "outputs": [],
   "source": []
  },
  {
   "cell_type": "markdown",
   "metadata": {},
   "source": [
    "Corrigé : <span title=\"liste1 = [randint(-500,500) for i in range(10)]\" style=\"color:red;cursor:pointer;\">liste1</span>, <span title=\"liste2 = [element/10 for element in liste1]\" style=\"color:red;cursor:pointer;\">liste2</span> et <span title=\"liste3 = [element for element in liste2 if element < 0 and element == int(element)]\" style=\"color:red;cursor:pointer;\">liste3</span>."
   ]
  },
  {
   "cell_type": "markdown",
   "metadata": {},
   "source": [
    "## 2. Matrices\n",
    "\n",
    "Une matrice est un tableau de valeurs à deux dimensions.\n",
    "Ainsi : $\\begin{pmatrix}1&2&3\\\\-5&0&-19.3\\\\ \\end{pmatrix}$\n",
    "est une matrice de dimensions 2x3 (2 lignes, 3 colonnes).\n",
    "\n",
    "Pour représenter une matrice en Python, on utilise une liste de listes.\n",
    "\n",
    "Ainsi, la matrice précédente sera une liste de deux listes, chacune des sous-listes correspondant à une ligne de la matrice.\n",
    "\n",
    "```\n",
    "matrice = [          \n",
    "             [1,2,3],\n",
    "             [-5,0,-19.3]\n",
    "           ]\n",
    "```"
   ]
  },
  {
   "cell_type": "markdown",
   "metadata": {},
   "source": [
    "**Question 16** : Créer la matrice $\\begin{pmatrix}0&0\\\\0&1\\\\1&1\\\\ \\end{pmatrix}$\n",
    "\n"
   ]
  },
  {
   "cell_type": "code",
   "execution_count": null,
   "metadata": {},
   "outputs": [],
   "source": []
  },
  {
   "cell_type": "markdown",
   "metadata": {},
   "source": [
    "**Question 17** : Créer la matrice $\\begin{pmatrix}0&1&2&3&4&5&6&7&8&9\\\\-10&-9&-8&-7&-6&-5&-4&-3&-2&-1\\\\-15&-12&-9&-6&-3&0&3&6&9&12\\\\ \\end{pmatrix}$.\n",
    "\n",
    "On privilégiera évidemment des listes en compréhensions pour les listes intermédiaires."
   ]
  },
  {
   "cell_type": "code",
   "execution_count": null,
   "metadata": {},
   "outputs": [],
   "source": [
    "chaine = \"\"\n",
    "for i in range(-5,5):\n",
    "    chaine += str(3*i) + \"&\"\n",
    "print(chaine)"
   ]
  },
  {
   "cell_type": "markdown",
   "metadata": {},
   "source": [
    "Il est tout à fait possible de générer une matrice en seule seule étape en compréhension.\n",
    "\n",
    "Ainsi, pour créer la matrice *nulle* $\\begin{pmatrix}0&0&0&0&0&0\\\\ 0&0&0&0&0&0\\\\ 0&0&0&0&0&0\\\\ 0&0&0&0&0&0\\\\ \\end{pmatrix}$, de dimension 4x6, on peut faire la définition suivante :"
   ]
  },
  {
   "cell_type": "code",
   "execution_count": null,
   "metadata": {},
   "outputs": [],
   "source": [
    "[[0 for i in range(6)] for j in range(4)]"
   ]
  },
  {
   "cell_type": "markdown",
   "metadata": {},
   "source": [
    "**Question 18** : inverser le 4 et le 6 dans la formule précédente. Que se passe-t-il ?"
   ]
  },
  {
   "cell_type": "raw",
   "metadata": {},
   "source": []
  },
  {
   "cell_type": "markdown",
   "metadata": {},
   "source": [
    "**Question 19** : Voici les matrices $M_1 = \\begin{pmatrix}1&2&3&4&5\\\\ 1&2&3&4&5\\\\ 1&2&3&4&5\\\\ \\end{pmatrix}$ et $M_2 = \\begin{pmatrix}1&1&1&1&1\\\\ 2&2&2&2&2\\\\ 3&3&3&3&3\\\\ \\end{pmatrix}$.\n",
    "\n",
    "* Pour chacune des matrices, indiquer quelle valeur se situe à l'intersection de la ligne $i$ et de la colonne $j$.\n",
    "\n",
    "* Créer chacune des matrices via une liste en compréhension."
   ]
  },
  {
   "cell_type": "raw",
   "metadata": {},
   "source": [
    "Valeurs de M1 et M2 aux intersections ixj :"
   ]
  },
  {
   "cell_type": "code",
   "execution_count": null,
   "metadata": {},
   "outputs": [],
   "source": [
    "# Listes en compréhensions :\n"
   ]
  },
  {
   "cell_type": "markdown",
   "metadata": {},
   "source": [
    "Corrigé : <span title=\"j\" style=\"color:red;cursor:pointer;\">valeur de $M_1$ en $i$x$j$</span> et <span title=\"[[i for i in range(1,6)] for j in range(1,4)]\" style=\"color:red;cursor:pointer;\">$M_1$ définie en compréhension</span>.\n",
    "\n",
    "<span title=\"i\" style=\"color:red;cursor:pointer;\">valeur de $M_2$ en $i$x$j$</span> et <span title=\"[[i for i in range(1,6)] for j in range(1,4)]\" style=\"color:red;cursor:pointer;\">là</span>.\n",
    "\n"
   ]
  },
  {
   "cell_type": "markdown",
   "metadata": {},
   "source": [
    "**Question 20** : Voici la matrice $\\begin{pmatrix}0&1&2&3&4\\\\ 1&2&3&4&5\\\\ 2&3&4&5&6\\\\ 3&4&5&6&7\\\\ \\end{pmatrix}$.\n",
    "\n",
    "Indiquer quelle valeur se situe à l'intersection de la ligne $i$ et de la colonne $j$. Désormais, pour faciliter le parallèle avec les index de listes, on considérera la première ligne comme étant la **ligne 0** et la première colonne comme étant la **colonne 0**.\n",
    "\n",
    "Créer ensuite la matrice par liste en compréhension."
   ]
  },
  {
   "cell_type": "code",
   "execution_count": null,
   "metadata": {},
   "outputs": [],
   "source": []
  },
  {
   "cell_type": "markdown",
   "metadata": {},
   "source": [
    "C'est bien d'avoir créé une liste correspondant à une matrice, encore faut-il pouvoir savoir accéder à ses valeurs.\n",
    "\n",
    "Pour accéder à la valeur située à l'intersection de la ligne $i$ et de la colonne $j$ (numérotées à partir de 0), on fera : `liste[i][j]`"
   ]
  },
  {
   "cell_type": "markdown",
   "metadata": {},
   "source": [
    "**Question 21** : Pour la liste suivante, accéder à la valeur située à l'intersection de la lignes 5 et de la colonne 3."
   ]
  },
  {
   "cell_type": "code",
   "execution_count": null,
   "metadata": {},
   "outputs": [],
   "source": [
    "listeMatrice = [[randint(0,10) for j in range(10)] for i in range(6)]\n",
    "print(listeMatrice)"
   ]
  },
  {
   "cell_type": "code",
   "execution_count": null,
   "metadata": {},
   "outputs": [],
   "source": []
  },
  {
   "cell_type": "markdown",
   "metadata": {},
   "source": [
    "**Question 22** : Créer une matrice nulle de dimensions 3x3 puis modifier la valeur située au centre de la matrice en 1."
   ]
  },
  {
   "cell_type": "code",
   "execution_count": null,
   "metadata": {},
   "outputs": [],
   "source": []
  }
 ],
 "metadata": {
  "file_extension": ".py",
  "kernelspec": {
   "display_name": "Python 3",
   "language": "python",
   "name": "python3"
  },
  "language_info": {
   "codemirror_mode": {
    "name": "ipython",
    "version": 3
   },
   "file_extension": ".py",
   "mimetype": "text/x-python",
   "name": "python",
   "nbconvert_exporter": "python",
   "pygments_lexer": "ipython3",
   "version": "3.7.3"
  },
  "mimetype": "text/x-python",
  "name": "python",
  "npconvert_exporter": "python",
  "pygments_lexer": "ipython3",
  "version": 3
 },
 "nbformat": 4,
 "nbformat_minor": 2
}
