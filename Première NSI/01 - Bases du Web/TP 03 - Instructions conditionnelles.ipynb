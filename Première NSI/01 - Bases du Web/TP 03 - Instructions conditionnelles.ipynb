{
 "cells": [
  {
   "cell_type": "markdown",
   "metadata": {
    "deletable": false,
    "editable": false,
    "run_control": {
     "frozen": true
    }
   },
   "source": [
    "Pour le bon fonctionnement du TP, exécuter le code suivant au démarrage :\n"
   ]
  },
  {
   "cell_type": "code",
   "execution_count": null,
   "metadata": {},
   "outputs": [],
   "source": [
    "%%HTML\n",
    "<script src=\"jquery-3.5.1.min.js\"></script>\n",
    "<script src=\"test.js\"></script>"
   ]
  },
  {
   "cell_type": "markdown",
   "metadata": {},
   "source": [
    "<center> <h1> TP n°3 - Instructions conditionnelles </h1></center>\n",
    "\n",
    "*Cette série de TP est l'occasion de refaire le point sur vos compétences en Python : on y reprend les bases du langage.*"
   ]
  },
  {
   "cell_type": "markdown",
   "metadata": {
    "deletable": false,
    "editable": false,
    "run_control": {
     "frozen": true
    }
   },
   "source": [
    "## I - Structures :\n",
    "\n",
    "En informatique, des instructions doivent souvent être appliquées selon certaines conditions.\n",
    "Il existe pour cela la structure logique : \n",
    "<div style=\"border:solid 1px;max-width:300px;margin:20px auto;padding:10px;\"><b>Si</b> <em>condition</em> <br /><b>Alors</b> <em>bloc d'instructions</em></div>\n",
    "\n",
    "En Python, cela revient à :"
   ]
  },
  {
   "cell_type": "code",
   "execution_count": null,
   "metadata": {},
   "outputs": [],
   "source": [
    "# Exemple de variable :\n",
    "plouf = 8\n",
    "\n",
    "# Affichage conditionnel :\n",
    "if plouf > 5:\n",
    "    print(\"Beau plongeon !\") # La condition est respectée (VRAIE car 8>5), ce message sera donc affiché\n",
    "    "
   ]
  },
  {
   "cell_type": "markdown",
   "metadata": {
    "deletable": false,
    "editable": false,
    "run_control": {
     "frozen": true
    }
   },
   "source": [
    "On peut faire une structure logique qui gère deux cas contraires :\n",
    "\n",
    "<div style=\"border:solid 1px;max-width:300px;margin:20px auto;padding:10px;\"><b>Si</b> <em>condition</em><br /> <b>Alors</b> <em>bloc d'instructions 1</em><br /> <b>Sinon</b> <em>bloc d'instructions 2</em> </div>"
   ]
  },
  {
   "cell_type": "code",
   "execution_count": null,
   "metadata": {},
   "outputs": [],
   "source": [
    "if plouf > 5:                   # Si condition\n",
    "    print(\"Beau plongeon !\")     # Alors instruction\n",
    "else:                            # Sinon (si plouf est inférieur ou égal à 5)\n",
    "    print(\"Il faut aller plus haut !\")    \n",
    "    "
   ]
  },
  {
   "cell_type": "markdown",
   "metadata": {
    "deletable": false,
    "editable": false,
    "run_control": {
     "frozen": true
    }
   },
   "source": [
    "Changer la valeur de `plouf` de façon à ne plus respecter la condition `plouf > 5` puis relancez les instructions ci-dessus."
   ]
  },
  {
   "cell_type": "code",
   "execution_count": null,
   "metadata": {},
   "outputs": [],
   "source": [
    "# Changer la valeur de plouf ici :\n",
    "plouf = 2\n",
    "\n",
    "if plouf > 5:                   # Si condition\n",
    "    print(\"Beau plongeon !\")     # Alors instruction\n",
    "else:                            # Sinon (si plouf est inférieur ou égal à 5)\n",
    "    print(\"Il faut aller plus haut !\")    \n",
    "    "
   ]
  },
  {
   "cell_type": "markdown",
   "metadata": {
    "deletable": false,
    "editable": false,
    "run_control": {
     "frozen": true
    }
   },
   "source": [
    "Ces instructions qui ne s'appliquent que sous certaines conditions sont appelées **instructions conditionnelles**.\n",
    "\n",
    "On peut trouver une dernière structure qui permet de traiter des situations distinctes :\n",
    "<div style=\"border:solid 1px;max-width:300px;margin:20px auto;padding:10px;\"><b>Si</b> <em>condition</em><br /> <b>&nbsp;&nbsp;Alors</b> <em>bloc d'instructions 1</em> <br /><b>Sinon si</b> <em>condition 2</em>  <br /><b>&nbsp;&nbsp;Alors</b> <em>bloc d'instructions 2</em> <br /><center>...</center><b> Sinon</b> <em>autre bloc d'instruction</em></div>\n",
    "En Python, la syntaxe est :"
   ]
  },
  {
   "cell_type": "code",
   "execution_count": null,
   "metadata": {},
   "outputs": [],
   "source": [
    "# Exemple de variable :\n",
    "age = 15\n",
    "\n",
    "# Instructions conditionnelles :\n",
    "if age < 3:                          # âge entre 0 et 2\n",
    "    print(\"Bébé.\")          \n",
    "elif age < 13:                       # âge entre 3 et 12\n",
    "    print(\"Jeune enfant.\")\n",
    "elif age < 18 :                      # âge entre 13 et 17\n",
    "    print(\"Adolescent.\") \n",
    "else:                                # âge supérieur ou égal à 18\n",
    "    print(\"Adulte.\")\n",
    "    "
   ]
  },
  {
   "cell_type": "markdown",
   "metadata": {
    "deletable": false,
    "editable": false,
    "run_control": {
     "frozen": true
    }
   },
   "source": [
    "## II - Conditions (tests) :"
   ]
  },
  {
   "cell_type": "markdown",
   "metadata": {
    "deletable": false,
    "editable": false,
    "run_control": {
     "frozen": true
    }
   },
   "source": [
    "Les conditions sont souvent des comparaisons à l'aide de **comparateurs logiques** classiques :\n",
    "* **a == b** compare si a et b sont égaux\n",
    "* **a < b** compare si a est strictement plus petit que b\n",
    "* **a <= b** compare si a est plus petit ou égal à b\n",
    "* **\\>** et **>=** font la même chose pour \"plus grand que\"\n",
    "* on peut faire des encadrements, comme **a <= b < c**\n",
    "* on peut cumuler les conditions, ou vérifier au moins une condition parmi plusieurs avec les termes **and** et **or**"
   ]
  },
  {
   "cell_type": "markdown",
   "metadata": {
    "deletable": false,
    "editable": false,
    "run_control": {
     "frozen": true
    }
   },
   "source": [
    "Une condition renvoie **True** ou **False**. Ainsi, prenons les exemples suivants :"
   ]
  },
  {
   "cell_type": "code",
   "execution_count": null,
   "metadata": {},
   "outputs": [],
   "source": [
    "2 == 4/2 # renvoie True\n"
   ]
  },
  {
   "cell_type": "code",
   "execution_count": null,
   "metadata": {},
   "outputs": [],
   "source": [
    "2 < 3 # renvoie True\n"
   ]
  },
  {
   "cell_type": "code",
   "execution_count": null,
   "metadata": {},
   "outputs": [],
   "source": [
    "5 < 9 < 8 # renvoie False (car 9 > 8)\n"
   ]
  },
  {
   "cell_type": "code",
   "execution_count": null,
   "metadata": {},
   "outputs": [],
   "source": [
    "maVariable = 3\n",
    "maVariable == 5 # renvoie False car maVariable vaut 3\n"
   ]
  },
  {
   "cell_type": "code",
   "execution_count": null,
   "metadata": {},
   "outputs": [],
   "source": [
    "5 < 13 and 8 > 1 # renvoie True car les deux conditions sont vérifiées\n"
   ]
  },
  {
   "cell_type": "code",
   "execution_count": null,
   "metadata": {},
   "outputs": [],
   "source": [
    "5 < 13 or 1 > 8 # renvoie True car une des deux conditions est vérifiée (même si la seconde est fausse)\n"
   ]
  },
  {
   "cell_type": "markdown",
   "metadata": {
    "deletable": false,
    "editable": false,
    "run_control": {
     "frozen": true
    }
   },
   "source": [
    "Pour les exercices suivants, ne pas faire de test dans une console Python : l'intérêt est bien de réfléchir à ce que le langage va interpréter.\n",
    "\n",
    "**Exercice 1 :**\n",
    "Que renvoie la condition `5 > 78/14` ?\n",
    "<center>\n",
    "    <input type=\"radio\" name=\"test1\" />True\n",
    "    <input type=\"radio\" name=\"test1\" class=\"ok\" />False\n",
    "</center>\n",
    "\n",
    "<div class=\"reponse1\"></div>\n",
    "\n",
    "**Exercice 2 :**\n",
    "Si on pose `a = -27.4`, que renvoie `type(a)` ?\n",
    "<center>\n",
    "    <input type=\"radio\" name=\"test2\" />'int'\n",
    "    <input type=\"radio\" name=\"test2\" class=\"ok\" />'float'\n",
    "    <input type=\"radio\" name=\"test2\" />'str'\n",
    "</center>\n",
    "\n",
    "<div class=\"reponse2\"></div>\n",
    "\n",
    "**Exercice 3 :**\n",
    "Si on pose `a = 7`, que renvoie la condition `a > 0 and type(a) == 'str'` ?\n",
    "<center>\n",
    "    <input type=\"radio\" name=\"test3\" />True\n",
    "    <input type=\"radio\" name=\"test3\" class=\"ok\" />False\n",
    "</center>\n",
    "\n",
    "<div class=\"reponse3\"></div>\n",
    "\n",
    "**Exercice 4 :**\n",
    "Si on pose `a = 7` et `b = -1`, que renvoie la condition `a <= b or type(a) == type(b)` ?\n",
    "<center>\n",
    "    <input type=\"radio\" name=\"test4\" class=\"ok\" />True\n",
    "    <input type=\"radio\" name=\"test4\" />False\n",
    "</center>\n",
    "\n",
    "<div class=\"reponse4\"></div>"
   ]
  },
  {
   "cell_type": "markdown",
   "metadata": {},
   "source": [
    "<script type=\"text-javascript\">\n",
    "    alert(\"truc\");\n",
    "</script>"
   ]
  },
  {
   "cell_type": "markdown",
   "metadata": {
    "deletable": false,
    "editable": false,
    "run_control": {
     "frozen": true
    }
   },
   "source": [
    "**Exercice 5 :** Créer la fonction <span style=\"color:blue\">**majeur**</span> qui prend comme paramètre l'âge et qui renvoie `True` ou `False` selon que la personne soit majeure (18 ans ou plus) ou non. \n",
    "\n"
   ]
  },
  {
   "cell_type": "code",
   "execution_count": null,
   "metadata": {},
   "outputs": [],
   "source": [
    "# Exercice ici :\n",
    "def majeur(age):\n",
    "    pass # à remplacer\n",
    "    "
   ]
  },
  {
   "cell_type": "code",
   "execution_count": null,
   "metadata": {},
   "outputs": [],
   "source": [
    "# Tests ici :\n",
    "print(majeur(10))\n",
    "print(majeur(18))\n",
    "print(majeur(25))\n"
   ]
  },
  {
   "cell_type": "markdown",
   "metadata": {
    "deletable": false,
    "editable": false,
    "run_control": {
     "frozen": true
    }
   },
   "source": [
    "**Exercice 6 :** Créer la fonction <span style=\"color:blue\">**vitesseVelo**</span> qui prend en paramètres une distance (en *km*) et un temps (en *heures*), et qui renvoie un message indiquant *rapide* ou *lent* selon que cette vitesse dépasse ou non 25 *km/h*."
   ]
  },
  {
   "cell_type": "code",
   "execution_count": null,
   "metadata": {},
   "outputs": [],
   "source": [
    "# Exercice ici :\n",
    "def vitesseVelo(distance,temps):\n",
    "    pass\n"
   ]
  },
  {
   "cell_type": "code",
   "execution_count": null,
   "metadata": {},
   "outputs": [],
   "source": [
    "# Tests ici :\n"
   ]
  },
  {
   "cell_type": "markdown",
   "metadata": {
    "deletable": false,
    "editable": false,
    "run_control": {
     "frozen": true
    }
   },
   "source": [
    "**Exercice 7 :** Créer la fonction <span style=\"color:blue\">**ordreCroissant**</span> qui prend en paramètre deux nombres et qui renvoie `True` ou `False` selon que ces nombres soient bien donnés dans l'ordre croissant.\n",
    "\n",
    "Ainsi `ordreCroissant(3,7)` renvoie `True` et `ordreCroissant(7,3)` renvoie `False`"
   ]
  },
  {
   "cell_type": "code",
   "execution_count": null,
   "metadata": {},
   "outputs": [],
   "source": [
    "# Exercice ici :\n",
    "def ordreCroissant(nombre1,nombre2):\n",
    "    pass\n"
   ]
  },
  {
   "cell_type": "code",
   "execution_count": null,
   "metadata": {},
   "outputs": [],
   "source": [
    "# Tests ici :\n"
   ]
  },
  {
   "cell_type": "markdown",
   "metadata": {
    "deletable": false,
    "editable": false,
    "run_control": {
     "frozen": true
    }
   },
   "source": [
    "**Exercice 8 :** Créer la fonction <span style=\"color:blue\">**ordreCroissant3**</span> qui prend trois nombres en paramètres et qui fournit en sortie la liste de ces nombres dans l'ordre croissant (**return** *nombre1*, *nombre2*, *nombre3*)"
   ]
  },
  {
   "cell_type": "code",
   "execution_count": null,
   "metadata": {},
   "outputs": [],
   "source": [
    "# Exercice ici :\n",
    "def ordreCroissant3(nombre1,nombre2,nombre3):\n",
    "    pass\n"
   ]
  },
  {
   "cell_type": "code",
   "execution_count": null,
   "metadata": {},
   "outputs": [],
   "source": [
    "# Tests ici :\n",
    "ordreCroissant3(16,1,789)\n"
   ]
  },
  {
   "cell_type": "markdown",
   "metadata": {
    "deletable": false,
    "editable": false,
    "run_control": {
     "frozen": true
    }
   },
   "source": [
    "Vérifier si les fonctions <span style=\"color:blue\">**ordreCroissant**</span> et <span style=\"color:blue\">**ordreCroissant3**</span> fonctionnent avec des chaines de caractères :"
   ]
  },
  {
   "cell_type": "code",
   "execution_count": null,
   "metadata": {},
   "outputs": [],
   "source": [
    "ordreCroissant(\"test\",\"suspens\") # Doit renvoyer False\n"
   ]
  },
  {
   "cell_type": "code",
   "execution_count": null,
   "metadata": {},
   "outputs": [],
   "source": [
    "ordreCroissant3(\"test\",\"suspens\",\"incroyable\") # Doit renvoyer \"incroyable\",\"suspens\",\"test\"\n"
   ]
  },
  {
   "cell_type": "markdown",
   "metadata": {
    "deletable": false,
    "editable": false,
    "run_control": {
     "frozen": true
    }
   },
   "source": [
    "**Exercice 9 :** Créer la fonction <span style=\"color:blue\">**puissanceSeuil**</span> qui prend en entrée les paramètres **intensité** et **tension** et qui affiche la valeur de la puissance électrique correspondante, puis les messages suivants selon la valeur de cette puissance :\n",
    "* \"Puissance correcte\" si celle-ci est inférieure à 800 W\n",
    "* \"Générateur presque à saturation\" si celle-ci est entre 800 W et 1000 W\n",
    "* \"Puissance trop importante requise\" si celle-ci dépasse 1000 W\n",
    "\n",
    "*Remarque : se servir d'un moteur de recherche si l'on a oublié la formule de la puissance !*"
   ]
  },
  {
   "cell_type": "code",
   "execution_count": null,
   "metadata": {},
   "outputs": [],
   "source": [
    "# Exercice ici :\n"
   ]
  },
  {
   "cell_type": "code",
   "execution_count": null,
   "metadata": {},
   "outputs": [],
   "source": [
    "# Tests ici :\n"
   ]
  },
  {
   "cell_type": "markdown",
   "metadata": {
    "deletable": false,
    "editable": false,
    "run_control": {
     "frozen": true
    }
   },
   "source": [
    "**Exercice 10 :** Créer la fonction <span style=\"color:blue\">**deuxEtQuatre**</span> qui prend un nombre en paramètre et indique si c'est un multiple de 2 et de 4 en sortie.\n",
    "\n",
    "*Remarque :* On pourra se servir du reste dans la division par 2 ou par 4.\n",
    "\n",
    "Par exemple, 13 = 6\\*2 + 1, donc lorsqu'on divise 13 par 2, il reste 1 et 13 n'est donc pas un multiple de 2.\n",
    "\n",
    "Python (comme beaucoup de langages) considère que trouver un reste dans une division est une opération mathématique élémentaire et le note avec le caractère <b>%</b> :\n",
    "Ainsi 13%2 = 1."
   ]
  },
  {
   "cell_type": "code",
   "execution_count": null,
   "metadata": {},
   "outputs": [],
   "source": [
    "# Exercice ici :\n"
   ]
  },
  {
   "cell_type": "code",
   "execution_count": null,
   "metadata": {},
   "outputs": [],
   "source": [
    "# Tests ici :\n"
   ]
  },
  {
   "cell_type": "markdown",
   "metadata": {
    "deletable": false,
    "editable": false,
    "run_control": {
     "frozen": true
    }
   },
   "source": [
    "Bibliographie :\n",
    "* https://courspython.com/introduction-python.html\n",
    "* https://python.sdv.univ-paris-diderot.fr/cours-python.pdf\n",
    "* https://python.developpez.com/cours/apprendre-python-3/\n",
    "* http://hebergement.u-psud.fr/iut-orsay/Pedagogie/MPHY/Python/exercices-python3.pdf\n",
    "* https://docs.python.org/fr/3/library/functions.html (Fonctions de base de Python)"
   ]
  }
 ],
 "metadata": {
  "celltoolbar": "Aucun(e)",
  "kernelspec": {
   "display_name": "Python 3",
   "language": "python",
   "name": "python3"
  },
  "language_info": {
   "codemirror_mode": {
    "name": "ipython",
    "version": 3
   },
   "file_extension": ".py",
   "mimetype": "text/x-python",
   "name": "python",
   "nbconvert_exporter": "python",
   "pygments_lexer": "ipython3",
   "version": "3.7.3"
  }
 },
 "nbformat": 4,
 "nbformat_minor": 2
}
