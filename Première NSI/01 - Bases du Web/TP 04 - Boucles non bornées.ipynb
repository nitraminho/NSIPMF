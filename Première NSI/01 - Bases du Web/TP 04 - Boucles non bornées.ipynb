{
 "cells": [
  {
   "cell_type": "markdown",
   "metadata": {
    "deletable": false,
    "editable": false,
    "run_control": {
     "frozen": true
    }
   },
   "source": [
    "Pour le bon fonctionnement du TP, exécuter le code suivant au démarrage :\n"
   ]
  },
  {
   "cell_type": "code",
   "execution_count": null,
   "metadata": {},
   "outputs": [],
   "source": [
    "%%HTML\n",
    "<script src=\"jquery-3.5.1.min.js\"></script>\n",
    "<script src=\"test.js\"></script>"
   ]
  },
  {
   "cell_type": "markdown",
   "metadata": {
    "deletable": false,
    "editable": false,
    "run_control": {
     "frozen": true
    }
   },
   "source": [
    "<center> <h1> TP n°4 - Boucles non bornées</h1></center>\n",
    "\n",
    "*Cette série de TP est l'occasion de refaire le point sur vos compétences en Python : on y reprend les bases du langage.*"
   ]
  },
  {
   "cell_type": "markdown",
   "metadata": {
    "deletable": false,
    "editable": false,
    "run_control": {
     "frozen": true
    }
   },
   "source": [
    "L'intérêt majeur de l'informatique est au départ de faire des calculs vite, très vite, et ce à de nombreuses reprises si besoin. Il est donc parfois important de répéter une instruction.\n",
    "\n",
    "Pour cela, deux structures de répétitions existent : on parle de **boucles** (bornées ou non bornées)."
   ]
  },
  {
   "cell_type": "markdown",
   "metadata": {
    "deletable": false,
    "editable": false,
    "run_control": {
     "frozen": true
    }
   },
   "source": [
    "La première structure de boucle, dite **boucle non bornée**, part du principe suivant : tant qu'une condition est vérifiée, on exécute un bloc d'instructions. On résume donc cela par :\n",
    "\n",
    "<div style=\"border:solid 1px;max-width:300px;margin:20px auto;padding:10px;\"><b>Tant que</b> <em>condition</em> <br /><b> Faire </b> <em>bloc d'instructions</em>\n",
    "</div>\n",
    "\n",
    "En Python, cela donne :"
   ]
  },
  {
   "cell_type": "code",
   "execution_count": null,
   "metadata": {},
   "outputs": [],
   "source": [
    "# Initialisation d'une variable\n",
    "resultat = 1\n",
    "\n",
    "# Boucle non bornée :\n",
    "while resultat < 20:        # Tant que la variable resultat est strictement inférieure à 20\n",
    "    print(resultat)         # On affiche sa valeur\n",
    "    resultat = resultat * 2 # On multiplie ensuite sa valeur par 2\n",
    "    "
   ]
  },
  {
   "cell_type": "markdown",
   "metadata": {
    "deletable": false,
    "editable": false,
    "run_control": {
     "frozen": true
    }
   },
   "source": [
    "On parle de boucle **non bornée** car on ne sait pas à l'avance combien de fois le bloc d'instructions sera exécuté.\n",
    "\n",
    "Ci-dessus, il a été exécuté 5 fois :\n",
    "* La première fois, **resultat** valait 1\n",
    "* La seconde fois, **resultat** valait 2\n",
    "* La troisième fois, **resultat** valait 4\n",
    "* La quatrième fois, **resultat** valait 8\n",
    "* La cinquième fois, **resultat** valait 16\n",
    "* À la sixième tentative, la condition **`resultat < 20`** n'était plus respectée car **resultat** valait 32 : le bloc d'instructions n'a donc pas été exécuté.\n",
    "\n",
    "**Attention :** Si la condition ne devient jamais fausse, la boucle continue **indéfiniment** ! Il faut donc bien vérifier que cette condition évolue dans le bloc d'instructions.\n",
    "\n",
    "Dans notre exemple, **resultat** est à chaque fois multiplié par 2 donc va grandir et finir par dépasser 1000 (car nous avons initialisé **resultat** à un nombre strictement positif)."
   ]
  },
  {
   "cell_type": "markdown",
   "metadata": {
    "deletable": false,
    "editable": false,
    "run_control": {
     "frozen": true
    }
   },
   "source": [
    "**Pensez à sauvegarder votre travail avant d'exécuter l'instruction ci-dessous !**\n",
    "\n",
    "La boucle ci-dessous a une condition toujours Vraie (True), donc tournera indéfiniment.\n",
    "\n",
    "&rarr; <span style=\"color:red\">Si cela se produit, il vous faut **stopper l'exécution** avec le carré <span style=\"font-size:200%;color:black\">&#x25A0;</span> situé dans le menu ci-dessus.</span>"
   ]
  },
  {
   "cell_type": "code",
   "execution_count": null,
   "metadata": {},
   "outputs": [],
   "source": [
    "# boucle infinie :\n",
    "aieAieAie = 1\n",
    "while aieAieAie == 1:\n",
    "    print(\"Aïe aïe aïe !\")\n",
    "    "
   ]
  },
  {
   "cell_type": "markdown",
   "metadata": {
    "deletable": false,
    "editable": false,
    "run_control": {
     "frozen": true
    }
   },
   "source": [
    "**Exercice 1 :**\n",
    "On donne le code suivant en Python :\n",
    "```\n",
    "nombre = 20\n",
    "while nombre > 15:\n",
    "    nombre -= 2    \n",
    "```\n",
    "Combien de fois la boucle exécute-t-elle l'instruction ?\n",
    "<center>\n",
    "    <input type=\"radio\" name=\"test1\" />1 fois\n",
    "    <input type=\"radio\" name=\"test1\" />2 fois\n",
    "    <input type=\"radio\" name=\"test1\" class=\"ok\" />3 fois\n",
    "    <input type=\"radio\" name=\"test1\" />4 fois\n",
    "</center>\n",
    "\n",
    "<div class=\"reponse1\"></div>"
   ]
  },
  {
   "cell_type": "markdown",
   "metadata": {
    "deletable": false,
    "editable": false,
    "run_control": {
     "frozen": true
    }
   },
   "source": [
    "**Exercice 2 :**\n",
    "On donne le code suivant en Python :\n",
    "```\n",
    "nombre = 1\n",
    "while nombre < 500 :\n",
    "    nombre *= -2    \n",
    "```\n",
    "Combien de fois la boucle exécute-t-elle l'instruction ?\n",
    "<center>\n",
    "    <input type=\"radio\" name=\"test2\" />7 fois\n",
    "    <input type=\"radio\" name=\"test2\" />8 fois\n",
    "    <input type=\"radio\" name=\"test2\" />9 fois\n",
    "    <input type=\"radio\" name=\"test2\" class=\"ok\" />10 fois\n",
    "</center>\n",
    "\n",
    "<div class=\"reponse2\"></div>"
   ]
  },
  {
   "cell_type": "markdown",
   "metadata": {
    "deletable": false,
    "editable": false,
    "run_control": {
     "frozen": true
    }
   },
   "source": [
    "**Exercice 3 :** Créer une fonction <span style=\"color:blue\">**afficheTousLesNombresDe0AN**</span> qui prend en entrée une valeur <em>n</em> et qui affiche tous les nombres de 0 à <em>n</em>.\n",
    "\n",
    "&rarr; *Indice* : on initialisera une variable à 0 que l'on fera évoluer à chaque passage dans la boucle."
   ]
  },
  {
   "cell_type": "code",
   "execution_count": null,
   "metadata": {},
   "outputs": [],
   "source": [
    "# Exercice ici :\n",
    "def afficheTousLesNombresDe0AN(nombreFinal):\n",
    "    pass"
   ]
  },
  {
   "cell_type": "code",
   "execution_count": null,
   "metadata": {},
   "outputs": [],
   "source": [
    "# Tests ici :\n",
    "afficheTousLesNombresDe0AN(7)\n"
   ]
  },
  {
   "cell_type": "markdown",
   "metadata": {
    "deletable": false,
    "editable": false,
    "run_control": {
     "frozen": true
    }
   },
   "source": [
    "**Exercice 4 :** Créer une fonction qui prend en entrée une valeur <em>n</em> et qui affiche tous les nombres **impairs** de 0 à <em>n</em>"
   ]
  },
  {
   "cell_type": "code",
   "execution_count": null,
   "metadata": {},
   "outputs": [],
   "source": [
    "# Exercice ici :\n"
   ]
  },
  {
   "cell_type": "code",
   "execution_count": null,
   "metadata": {},
   "outputs": [],
   "source": [
    "# Tests ici :\n"
   ]
  },
  {
   "cell_type": "markdown",
   "metadata": {
    "deletable": false,
    "editable": false,
    "run_control": {
     "frozen": true
    }
   },
   "source": [
    "**Exercice 5 :** Créer une fonction qui prend en entrée une valeur <em>n</em> et qui renvoie en sortie la valeur de la somme des carrés de 1 à <em>n</em>"
   ]
  },
  {
   "cell_type": "code",
   "execution_count": null,
   "metadata": {},
   "outputs": [],
   "source": [
    "# Exercice ici :\n"
   ]
  },
  {
   "cell_type": "code",
   "execution_count": null,
   "metadata": {},
   "outputs": [],
   "source": [
    "# Tests ici :\n"
   ]
  },
  {
   "cell_type": "markdown",
   "metadata": {
    "deletable": false,
    "editable": false,
    "run_control": {
     "frozen": true
    }
   },
   "source": [
    "**Exercice 6 :** Créer la fonction <span style=\"color:blue\">**croisementNombres**</span> qui prend deux paramètres *nombre1* et *nombre2* et qui affiche ces nombres tant que : <div style=\"text-align:center;font-style:italic\">nombre1 &lt; nombre 2</div> sachant qu'après chaque affichage *nombre1* augmente de 1 et *nombre2* diminue de 1."
   ]
  },
  {
   "cell_type": "code",
   "execution_count": null,
   "metadata": {},
   "outputs": [],
   "source": [
    "# Exercice ici :\n",
    "def croisementNombres(nombre1,nombre2):\n",
    "    pass\n"
   ]
  },
  {
   "cell_type": "code",
   "execution_count": null,
   "metadata": {},
   "outputs": [],
   "source": [
    "# Tests ici :\n"
   ]
  },
  {
   "cell_type": "markdown",
   "metadata": {
    "deletable": false,
    "editable": false,
    "run_control": {
     "frozen": true
    }
   },
   "source": [
    "**Exercice 7 :** Créer une fonction <span style=\"color:blue\">**divisionPar2**</span> qui prend en entrée une valeur <em>n</em> et affiche les divisions successives de ce nombre par 2 jusqu'à obtenir un nombre non entier.\n",
    "\n",
    "Ainsi `divisionPar2(24)` affichera successivement `24`, `12`, `6`, `3` avant de s'arrêter (car la division suivante donne 1.5 qui n'est pas entier).\n",
    "\n",
    "&rarr; *Indice* : pour vérifier qu'un nombre est bien entier, on peut vérifier s'il est égal à sa [partie entière](https://docs.python.org/fr/3/library/functions.html#int)."
   ]
  },
  {
   "cell_type": "code",
   "execution_count": null,
   "metadata": {},
   "outputs": [],
   "source": [
    "# Exercice ici :\n",
    "def divisionPar2(nombre):\n",
    "    pass"
   ]
  },
  {
   "cell_type": "code",
   "execution_count": null,
   "metadata": {},
   "outputs": [],
   "source": [
    "# Tests ici :"
   ]
  },
  {
   "cell_type": "markdown",
   "metadata": {
    "deletable": false,
    "editable": false,
    "run_control": {
     "frozen": true
    }
   },
   "source": [
    "**Exercice 8 :**\n",
    "On donne la fonction suivante en Python :\n",
    "    \n",
    "```\n",
    "def multiplicationPar5(max):\n",
    "    compteur = 0\n",
    "    nombre = 1\n",
    "    while nombre < max :\n",
    "        nombre *= 5\n",
    "        compteur += 1\n",
    "    return compteur\n",
    "```\n",
    "\n",
    "Que renvoie `multiplicationPar5(10000)` ?\n",
    "\n",
    "<center>\n",
    "    <input type=\"radio\" name=\"test7\" />5\n",
    "    <input type=\"radio\" name=\"test7\" class=\"ok\" />6\n",
    "    <input type=\"radio\" name=\"test7\" />7\n",
    "    <input type=\"radio\" name=\"test7\" />8\n",
    "</center>\n",
    "\n",
    "<div class=\"reponse7\"></div>"
   ]
  },
  {
   "cell_type": "markdown",
   "metadata": {
    "deletable": false,
    "editable": false,
    "run_control": {
     "frozen": true
    }
   },
   "source": [
    "**Exercice 9 :** Créer une fonction qui prend en entrée une valeur <em>n</em> et qui renvoie en sortie combien de fois de suite cet entier est divisible par 2 (avant d'obtenir un nombre non entier)."
   ]
  },
  {
   "cell_type": "code",
   "execution_count": null,
   "metadata": {},
   "outputs": [],
   "source": [
    "# Exercice ici :\n"
   ]
  },
  {
   "cell_type": "code",
   "execution_count": null,
   "metadata": {},
   "outputs": [],
   "source": [
    "# Tests ici :\n"
   ]
  },
  {
   "cell_type": "markdown",
   "metadata": {
    "deletable": false,
    "editable": false,
    "run_control": {
     "frozen": true
    }
   },
   "source": [
    "**Exercice 10 :** Créer une fonction <span style=\"color:blue\">**mille**</span> qui prend en entrée un nombre et indique en sortie la puissance minimale qu'il faut pour que ce nombre dépasse 1000.\n",
    "\n",
    "Exemple : `mille(6)` doit afficher **`4`** puisque 6<sup>3</sup> = 216 et 6<sup>4</sup> = 1296"
   ]
  },
  {
   "cell_type": "code",
   "execution_count": null,
   "metadata": {},
   "outputs": [],
   "source": [
    "# Exercice ici :\n",
    "def mille(nombre):\n",
    "    pass\n"
   ]
  },
  {
   "cell_type": "code",
   "execution_count": null,
   "metadata": {},
   "outputs": [],
   "source": [
    "# Tests ici :\n"
   ]
  },
  {
   "cell_type": "markdown",
   "metadata": {
    "deletable": false,
    "editable": false,
    "run_control": {
     "frozen": true
    }
   },
   "source": [
    "**Exercice 11 :**\n",
    "Un 1<sup>er</sup> janvier, on place une somme minimale de 225 € sur un plan épargne logement (PEL).\n",
    "\n",
    "Chaque 1<sup>er</sup> du mois, 45 € sont versés sur le compte.\n",
    "\n",
    "Chaque année, le 1<sup>er</sup> janvier, le PEL est crédité d'une somme correspondant à 1 % de l'argent placé sur le PEL le 31/12 précédent.\n",
    "\n",
    "Faire une fonction <span style=\"color:blue\">**PEL**</span> qui prend comme paramètre un nombre $n$ d'années et qui renvoie en sortie la somme sur le PEL au 1er janvier après $n$ années."
   ]
  },
  {
   "cell_type": "code",
   "execution_count": null,
   "metadata": {},
   "outputs": [],
   "source": [
    "# Exercice ici :"
   ]
  },
  {
   "cell_type": "code",
   "execution_count": null,
   "metadata": {},
   "outputs": [],
   "source": [
    "# Tests ici :"
   ]
  },
  {
   "cell_type": "markdown",
   "metadata": {
    "deletable": false,
    "editable": false,
    "run_control": {
     "frozen": true
    }
   },
   "source": [
    "**Exercice 12 :**\n",
    "Améliorer la fonction précédente en lui faisant prendre 3 paramètres en entrée :\n",
    "* le nombre $n$ d'années qui s'écoulent jusqu'à vérifier la somme sur le PEL\n",
    "* la somme initiale versée (forcément supérieure ou égale à 225 €)\n",
    "* l'apport mensuel (forcément supérieur ou égal à 45 €)\n"
   ]
  },
  {
   "cell_type": "code",
   "execution_count": null,
   "metadata": {},
   "outputs": [],
   "source": [
    "# Exercice ici :\n",
    "def PELAmeliore(nombreAnneesEcoulees,apportInitial,apportMensuel):\n",
    "    pass"
   ]
  },
  {
   "cell_type": "code",
   "execution_count": null,
   "metadata": {},
   "outputs": [],
   "source": [
    "# Tests ici :"
   ]
  },
  {
   "cell_type": "markdown",
   "metadata": {
    "deletable": false,
    "editable": false,
    "run_control": {
     "frozen": true
    }
   },
   "source": [
    "Bibliographie :\n",
    "* https://courspython.com/introduction-python.html\n",
    "* https://python.sdv.univ-paris-diderot.fr/cours-python.pdf\n",
    "* https://python.developpez.com/cours/apprendre-python-3/\n",
    "* http://hebergement.u-psud.fr/iut-orsay/Pedagogie/MPHY/Python/exercices-python3.pdf\n",
    "* https://docs.python.org/fr/3/library/functions.html (Fonctions de base de Python)"
   ]
  }
 ],
 "metadata": {
  "kernelspec": {
   "display_name": "Python 3",
   "language": "python",
   "name": "python3"
  },
  "language_info": {
   "codemirror_mode": {
    "name": "ipython",
    "version": 3
   },
   "file_extension": ".py",
   "mimetype": "text/x-python",
   "name": "python",
   "nbconvert_exporter": "python",
   "pygments_lexer": "ipython3",
   "version": "3.7.3"
  }
 },
 "nbformat": 4,
 "nbformat_minor": 2
}
