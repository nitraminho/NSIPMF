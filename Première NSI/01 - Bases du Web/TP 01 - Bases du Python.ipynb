{
 "cells": [
  {
   "cell_type": "markdown",
   "metadata": {
    "deletable": false,
    "editable": false,
    "run_control": {
     "frozen": true
    }
   },
   "source": [
    "<center> <h1> TP n°1 - BASES DU PYTHON </h1></center>\n",
    "\n",
    "*Cette série de TP est l'occasion de refaire le point sur vos compétences en Python : on y reprend les bases du langage.*"
   ]
  },
  {
   "cell_type": "markdown",
   "metadata": {
    "deletable": false,
    "editable": false,
    "run_control": {
     "frozen": true
    }
   },
   "source": [
    "Python est un <span title=\"Un langage informatique est un langage formel, c'est à dire un ensemble de termes respectant une certaine syntaxe et permettant de concevoir des programmes informatiques, c'est-à-dire de faire l'intermédiaire entre le programmeur et la machine.\" style=\"color:red;cursor:pointer\">langage</span> créé en 1989 et qui est actuellement à sa <span title=\"Tout programme est susceptible d'évoluer dans le temps, pour y corriger des erreurs, incorporer des améliorations esthétiques ou de nouvelles fonctionnalités, ... Chaque version d'un programme est numérotée (nous reviendrons sur ce point).\" style=\"color:red;cursor:pointer\">version</span> stable 3.8.5.\n",
    "\n",
    "Ce langage de programmation présente plusieurs intérêts, notamment :\n",
    "* il est <span title=\"Il fonctionne sous les principaux systèmes d'exploitation : Windows, Mac OS X, Linux, Android, iOS\" style=\"color:red;cursor:pointer\">multiplateforme</span> ;\n",
    "* il est libre et gratuit ;\n",
    "* il fait partie des langages **interprétés** : lors de l'exécution d'un <span title=\"suite d'instructions (programme ou partie d'un programme) visant à faire diverses actions à l'ordinateur : calculs, affichages, ...\" style=\"color:red;cursor:pointer\">script</span>, chaque ligne de code est traduite à la volée en langage machine pour être comprise par l'ordinateur. Cela évite d'avoir à **compiler** le code, c'est-à-dire créer avant toute exécution un fichier qui sera exécutable par le système d'exploitation.\n",
    "* il est orienté objet (nous reviendrons sur ce concept en classe de Terminale)."
   ]
  },
  {
   "cell_type": "markdown",
   "metadata": {
    "deletable": false,
    "editable": false,
    "run_control": {
     "frozen": true
    }
   },
   "source": [
    "Ce premier TP est consacré aux notions suivantes : **Interpréteur, calculs, bibliothèques, variables, types**.\n",
    "\n",
    "L'interface que vous utilisez actuellement (Jupyter) est une application hybride entre mise en forme de contenu (comme un site web) et interprétation de Python. Chaque Entrée ci-dessous est un espace pour saisir du code en Python. Une fois le code saisi, on peut demander à l'ordinateur de l'**interpréter** en validant avec les touches **Ctrl+Entrée**.\n",
    "\n",
    "\n",
    "## I - Calculs :\n",
    "L'interpréteur de Python peut ainsi faire des **calculs**. Exécutez chaque cellule de code ci-dessous avec **Ctrl+Entrée**."
   ]
  },
  {
   "cell_type": "code",
   "execution_count": null,
   "metadata": {},
   "outputs": [],
   "source": [
    "5+12\n"
   ]
  },
  {
   "cell_type": "code",
   "execution_count": null,
   "metadata": {},
   "outputs": [],
   "source": [
    "7-5*(4+2*6) # Python respecte les priorités de calcul !\n",
    "# Remarque : tout texte saisi sur une ligne après le symbole # n'est pas interprété par Python.\n",
    "# On parle de commentaires.\n"
   ]
  },
  {
   "cell_type": "code",
   "execution_count": null,
   "metadata": {},
   "outputs": [],
   "source": [
    "3.5+7 # La séparation entre partie entière et partie décimale d'un nombre s'écrit avec un point :\n",
    "# 3,5 s'écrit 3.5 pour Python\n"
   ]
  },
  {
   "cell_type": "markdown",
   "metadata": {
    "deletable": false,
    "editable": false,
    "run_control": {
     "frozen": true
    }
   },
   "source": [
    "**Exercice 1 :**\n",
    "Ci-dessous, calculer le produit : $(517-8853) \\times 1,2 - 3$."
   ]
  },
  {
   "cell_type": "code",
   "execution_count": null,
   "metadata": {},
   "outputs": [],
   "source": [
    "# Exercice ici :\n"
   ]
  },
  {
   "cell_type": "markdown",
   "metadata": {
    "deletable": false,
    "editable": false,
    "run_control": {
     "frozen": true
    }
   },
   "source": [
    "De base, Python ne connaît pas certains nombres ou certaines fonctions comme $\\pi$ ou le cosinus.\n",
    "Tester ci-après le calcul $\\pi+1$ :"
   ]
  },
  {
   "cell_type": "code",
   "execution_count": null,
   "metadata": {},
   "outputs": [],
   "source": [
    "pi+1\n"
   ]
  },
  {
   "cell_type": "markdown",
   "metadata": {
    "deletable": false,
    "editable": false,
    "run_control": {
     "frozen": true
    }
   },
   "source": [
    "L'interpréteur de Python renvoie alors un message d'erreur."
   ]
  },
  {
   "cell_type": "markdown",
   "metadata": {
    "deletable": false,
    "editable": false,
    "run_control": {
     "frozen": true
    }
   },
   "source": [
    "## II - Bibliothèques :\n",
    "\n",
    "On fait alors appel à des **bibliothèques**, comme la bibliothèque **math**."
   ]
  },
  {
   "cell_type": "code",
   "execution_count": null,
   "metadata": {},
   "outputs": [],
   "source": [
    "from math import * # On importe ici toutes les fonctionnalités de la bibliothèque math.\n",
    "pi+1\n"
   ]
  },
  {
   "cell_type": "markdown",
   "metadata": {
    "deletable": false,
    "editable": false,
    "run_control": {
     "frozen": true
    }
   },
   "source": [
    "Il s'agit de fichiers qui contiennent plusieurs valeurs et fonctions utiles à Python pour une utilisation préciser. Ainsi la bibliothèque `math` contient la valeur $\\pi$ et les fonctions cosinus ou sinus :"
   ]
  },
  {
   "cell_type": "code",
   "execution_count": null,
   "metadata": {},
   "outputs": [],
   "source": [
    "cos(3) # L'instruction cosinus est désormais accessible dans l'interpréteur, tout comme pi.\n"
   ]
  },
  {
   "cell_type": "code",
   "execution_count": null,
   "metadata": {},
   "outputs": [],
   "source": [
    "# Si on demande plusieurs calculs à la suite, seul le dernier sera affiché :\n",
    "5+7\n",
    "3-3\n",
    "pi+2\n"
   ]
  },
  {
   "cell_type": "markdown",
   "metadata": {
    "deletable": false,
    "editable": false,
    "run_control": {
     "frozen": true
    }
   },
   "source": [
    "Une fonction sert spécifiquement à afficher du contenu : **print(*contenu*)**"
   ]
  },
  {
   "cell_type": "code",
   "execution_count": null,
   "metadata": {},
   "outputs": [],
   "source": [
    "print(5+7)\n",
    "print(3-3)\n",
    "print(pi+2)\n"
   ]
  },
  {
   "cell_type": "code",
   "execution_count": null,
   "metadata": {},
   "outputs": [],
   "source": [
    "# On peut ainsi mettre en forme une réponse à un calcul :\n",
    "print(\"La réponse est :\", 2**10)\n",
    "# Voire intégrer plus simplement la réponse au milieu d'une phrase :\n",
    "print(f\"La réponse est {2**10} et cela me va très bien comme ça.\")\n",
    "## La double ** correspond à la puissance : ci-dessus 2 puissance 10.\n"
   ]
  },
  {
   "cell_type": "markdown",
   "metadata": {
    "deletable": false,
    "editable": false,
    "run_control": {
     "frozen": true
    }
   },
   "source": [
    "## III - Variables :\n",
    "\n",
    "Python peut stocker des informations en mémoire : nombres, textes, listes de données, ...\n",
    "\n",
    "Chaque donnée stockée est appelée **variable**. Cela permet de la réutiliser régulièrement."
   ]
  },
  {
   "cell_type": "code",
   "execution_count": null,
   "metadata": {},
   "outputs": [],
   "source": [
    "maVariable = 7       # Crée une variable appelée maVariable qui vaut 7\n",
    "print(5*maVariable)  # Affiche le résultat du calcul 5*7 (maVariable a été remplacée par 7)\n"
   ]
  },
  {
   "cell_type": "markdown",
   "metadata": {
    "deletable": false,
    "editable": false,
    "run_control": {
     "frozen": true
    }
   },
   "source": [
    "**Exercice 2 :** Créer une variable appelée `taVariable` qui vaut autant que le 8è multiple de 3 après 10."
   ]
  },
  {
   "cell_type": "code",
   "execution_count": null,
   "metadata": {},
   "outputs": [],
   "source": [
    "# Exercice ici :\n"
   ]
  },
  {
   "cell_type": "markdown",
   "metadata": {
    "deletable": false,
    "editable": false,
    "run_control": {
     "frozen": true
    }
   },
   "source": [
    "**Exercice 3 :** Créer une variable appelée `somme` qui correspond à la somme entre `maVariable`, `taVariable` et le nombre `20` :"
   ]
  },
  {
   "cell_type": "code",
   "execution_count": null,
   "metadata": {},
   "outputs": [],
   "source": [
    "# Exercice ici :\n"
   ]
  },
  {
   "cell_type": "markdown",
   "metadata": {
    "deletable": false,
    "editable": false,
    "run_control": {
     "frozen": true
    }
   },
   "source": [
    "On peut changer la valeur d'une variable (eh oui, elle **varie** !)\n",
    "\n",
    "**Exercice 4 :** Assigner la valeur 18 à `maVariable`. "
   ]
  },
  {
   "cell_type": "code",
   "execution_count": null,
   "metadata": {},
   "outputs": [],
   "source": [
    "# Exercice ici :\n"
   ]
  },
  {
   "cell_type": "markdown",
   "metadata": {
    "deletable": false,
    "editable": false,
    "run_control": {
     "frozen": true
    }
   },
   "source": [
    "La valeur de `taVariable` a-t-elle alors changée ?\n",
    "\n",
    "<input type=\"radio\" name=\"taVariable\" />Oui \n",
    "<input type=\"radio\" name=\"taVariable\" />Non"
   ]
  },
  {
   "cell_type": "code",
   "execution_count": null,
   "metadata": {},
   "outputs": [],
   "source": [
    "# Pour supprimer une variable de la mémoire, il existe la fonction del()\n",
    "del(maVariable)\n"
   ]
  },
  {
   "cell_type": "code",
   "execution_count": null,
   "metadata": {},
   "outputs": [],
   "source": [
    "# Si on appelle à nouveau maVariable, Python nous renvoie un message d'erreur :\n",
    "maVariable\n"
   ]
  },
  {
   "cell_type": "markdown",
   "metadata": {
    "deletable": false,
    "editable": false,
    "run_control": {
     "frozen": true
    }
   },
   "source": [
    "*Remarque* : Il vaut mieux éviter de mettre des caractères accentués dans le nom d'une variable : choisir **maDonnee** plutôt que **maDonnée**."
   ]
  },
  {
   "cell_type": "markdown",
   "metadata": {
    "deletable": false,
    "editable": false,
    "run_control": {
     "frozen": true
    }
   },
   "source": [
    "## IV - Types :\n",
    "\n",
    "Il existe plusieurs **types** de données :\n",
    "* nombres entiers (**integer** - int)\n",
    "* nombres décimaux, dits *flottants* (**float**)\n",
    "* chaînes de caractères (**string** - str)\n",
    "* booléen (**boolean** - bool) : variables prenant seulement deux valeurs &rarr; Vrai (**True**) ou Faux (**False**)\n",
    "* listes (**list**), dictionnaires (**dictionnary**), objets (**object**) (on reviendra sur ces concepts plus tard)\n",
    "* ...\n",
    "\n",
    "**Exercice 5 :**\n",
    "Créer trois variables <em>a</em>, <em>b</em> et <em>c</em> prenant les valeurs respectives 42, 15.6 et \"ceci est un texte\", puis vérifier le type de chacune avec la fonction `type(variable)`"
   ]
  },
  {
   "cell_type": "code",
   "execution_count": null,
   "metadata": {},
   "outputs": [],
   "source": [
    "# Exercice ici :\n"
   ]
  },
  {
   "cell_type": "code",
   "execution_count": null,
   "metadata": {},
   "outputs": [],
   "source": [
    "# Type de la première variable :\n",
    "type(a)\n"
   ]
  },
  {
   "cell_type": "code",
   "execution_count": null,
   "metadata": {},
   "outputs": [],
   "source": [
    "# Type de la deuxième variable :\n"
   ]
  },
  {
   "cell_type": "code",
   "execution_count": null,
   "metadata": {},
   "outputs": [],
   "source": [
    "# Type de la troisième variable :\n"
   ]
  },
  {
   "cell_type": "markdown",
   "metadata": {
    "deletable": false,
    "editable": false,
    "run_control": {
     "frozen": true
    }
   },
   "source": [
    "Python a automatiquement assigné un **type** à ces variables. Ce n'est pas le cas de tous les langages de programmation (en C ou Java, par exemple, il vous faudra toujours déclarer le type des variables, qui ne pourront en changer).\n",
    "\n",
    "Voyons ce qu'il se passe lors d'une opération :\n",
    "\n",
    "**Exercice 6 :**\n",
    "Créez la variable *somme* correspondant à *a+b*, puis affichez le résultat et le type de cette variable."
   ]
  },
  {
   "cell_type": "code",
   "execution_count": null,
   "metadata": {},
   "outputs": [],
   "source": [
    "# Exercice ici :\n"
   ]
  },
  {
   "cell_type": "markdown",
   "metadata": {
    "deletable": false,
    "editable": false,
    "run_control": {
     "frozen": true
    }
   },
   "source": [
    "Testez la somme entre les variables <em>a</em> et <em>c</em>. Que se passe-t-il ?"
   ]
  },
  {
   "cell_type": "code",
   "execution_count": null,
   "metadata": {},
   "outputs": [],
   "source": [
    "# Test ici : (on donnera l'explication en commentaire #)\n"
   ]
  },
  {
   "cell_type": "markdown",
   "metadata": {
    "deletable": false,
    "editable": false,
    "run_control": {
     "frozen": true
    }
   },
   "source": [
    "Testez le produit entre les variables <em>a</em> et <em>c</em>. Que se passe-t-il ?"
   ]
  },
  {
   "cell_type": "code",
   "execution_count": null,
   "metadata": {},
   "outputs": [],
   "source": [
    "# Test ici :\n"
   ]
  },
  {
   "cell_type": "markdown",
   "metadata": {
    "deletable": false,
    "editable": false,
    "run_control": {
     "frozen": true
    }
   },
   "source": [
    "## V - Évolution de la valeur :\n",
    "\n",
    "On peut changer la valeur d'une variable en l'exprimant par rapport à son ancienne valeur.\n",
    "\n",
    "Par exemple, si l'on veut faire augmenter la valeur de <em>a</em> de 1, on écrira :"
   ]
  },
  {
   "cell_type": "code",
   "execution_count": null,
   "metadata": {},
   "outputs": [],
   "source": [
    "a = a + 1\n",
    "print(a)\n"
   ]
  },
  {
   "cell_type": "markdown",
   "metadata": {
    "deletable": false,
    "editable": false,
    "run_control": {
     "frozen": true
    }
   },
   "source": [
    "Lorsqu'on veut faire évoluer la variable ainsi (en partant de son ancienne valeur), il est aussi possible de le préciser avec la syntaxe suivante (exemple avec les 4 opérations de base +, -, \\*, /):"
   ]
  },
  {
   "cell_type": "code",
   "execution_count": null,
   "metadata": {},
   "outputs": [],
   "source": [
    "valeur = 10\n",
    "print(valeur)\n",
    "valeur += 3     # correspond à l'écriture valeur = valeur + 3\n",
    "print(valeur)\n",
    "valeur -= 7     # correspond à l'écriture valeur = valeur - 7\n",
    "print(valeur)\n",
    "valeur *= 6\n",
    "print(valeur)\n",
    "valeur /= 2\n",
    "print(valeur)"
   ]
  },
  {
   "cell_type": "markdown",
   "metadata": {
    "deletable": false,
    "editable": false,
    "run_control": {
     "frozen": true
    }
   },
   "source": [
    "**Exercice 7 :** Suivre les instructions suivantes :\n",
    "* Créer une variable appelée *valeur*.\n",
    "* L'initialiser à 3.\n",
    "* Multiplier cette valeur par 6.\n",
    "* Ajouter 10\n",
    "* Élever à la puissance 3 (avec le symbole \\*\\*)\n",
    "* Afficher le résultat\n"
   ]
  },
  {
   "cell_type": "code",
   "execution_count": null,
   "metadata": {},
   "outputs": [],
   "source": [
    "# Exercice ici :\n"
   ]
  },
  {
   "cell_type": "markdown",
   "metadata": {
    "deletable": false,
    "editable": false,
    "run_control": {
     "frozen": true
    }
   },
   "source": [
    "Changer la valeur initiale ci-desssus et relancer les instructions pour voir le résultat."
   ]
  },
  {
   "cell_type": "markdown",
   "metadata": {
    "deletable": false,
    "editable": false,
    "run_control": {
     "frozen": true
    }
   },
   "source": [
    "**Exercice 8 :** créer un autre programme de calcul\n",
    "* Créer la variable `prix` qu'on initialisera à 42.\n",
    "* Augmenter ce prix de 20 % (la TVA).\n",
    "* Afficher la valeur du prix.\n",
    "\n",
    "Retester avec d'autres valeurs de prix."
   ]
  },
  {
   "cell_type": "code",
   "execution_count": null,
   "metadata": {},
   "outputs": [],
   "source": [
    "# Exercice ici :\n"
   ]
  },
  {
   "cell_type": "markdown",
   "metadata": {
    "deletable": false,
    "editable": false,
    "run_control": {
     "frozen": true
    }
   },
   "source": [
    "**Exercice 9 :**\n",
    "* Créer la variable `capital` qu'on initialisera à 100.\n",
    "* Augmenter cette variable de 5 %, puis de 12 %, puis la diminuer de 7 %.\n",
    "* Créer la variable `apportExceptionnel` qu'on initialisera à 25.\n",
    "* Diminuer `apportExceptionnel` de 25 %.\n",
    "* Augmenter la valeur de `capital` de la valeur de `apportExceptionnel`.\n",
    "* Afficher le résultat pour `capital`"
   ]
  },
  {
   "cell_type": "code",
   "execution_count": null,
   "metadata": {},
   "outputs": [],
   "source": [
    "# Exercice ici :\n"
   ]
  },
  {
   "cell_type": "markdown",
   "metadata": {
    "deletable": false,
    "editable": false,
    "run_control": {
     "frozen": true
    }
   },
   "source": [
    "**Exercice 10 :**\n",
    "\n",
    "* Créer la variable `ages` qui contient la somme de votre âge et de l'âge de l'un de vos proches.\n",
    "* Créer la variable `annees` qui contient la somme de votre année de naissance et de l'année de naissance du même proche.\n",
    "* Créer la variable résultat qui contient la moyenne des deux variables précédentes.\n",
    "\n",
    "Que constate-t-on ? Recommencer avec deux autres personnes. Expliquer mathématiquement ce qu'il se passe."
   ]
  },
  {
   "cell_type": "code",
   "execution_count": null,
   "metadata": {},
   "outputs": [],
   "source": [
    "# Exercice ici :\n"
   ]
  },
  {
   "cell_type": "markdown",
   "metadata": {
    "deletable": false,
    "editable": false,
    "run_control": {
     "frozen": true
    }
   },
   "source": [
    "Bibliographie :\n",
    "* https://courspython.com/introduction-python.html\n",
    "* https://python.sdv.univ-paris-diderot.fr/cours-python.pdf\n",
    "* https://python.developpez.com/cours/apprendre-python-3/\n",
    "* http://hebergement.u-psud.fr/iut-orsay/Pedagogie/MPHY/Python/exercices-python3.pdf\n",
    "* https://docs.python.org/fr/3/library/functions.html (Fonctions de base de Python)"
   ]
  }
 ],
 "metadata": {
  "kernelspec": {
   "display_name": "Python 3",
   "language": "python",
   "name": "python3"
  },
  "language_info": {
   "codemirror_mode": {
    "name": "ipython",
    "version": 3
   },
   "file_extension": ".py",
   "mimetype": "text/x-python",
   "name": "python",
   "nbconvert_exporter": "python",
   "pygments_lexer": "ipython3",
   "version": "3.7.3"
  }
 },
 "nbformat": 4,
 "nbformat_minor": 2
}
