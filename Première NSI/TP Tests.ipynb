{
 "cells": [
  {
   "cell_type": "markdown",
   "metadata": {
    "deletable": false,
    "editable": false,
    "run_control": {
     "frozen": true
    }
   },
   "source": [
    "<h1 style=\"text-align:center\">Jeux de tests</h1>\n",
    "\n",
    "Nous avons tous besoin de tester nos programmes.\n",
    "\n",
    "Un **test** en informatique est une situation (cas pratique) à mettre en œuvre pour vérifier la fiabilité d'un programme. Il s'agit de prévoir comment le programme va réagir à une certaine étape de sa réalisation.\n",
    "\n",
    "Un **jeu de tests** est un ensemble de situations à tester.\n",
    "\n",
    "Des tests consacrés à une partie spécifique d'un programme sont appelés **tests unitaires**.\n",
    "\n",
    "Voici quelques procédés de vérifications."
   ]
  },
  {
   "cell_type": "markdown",
   "metadata": {
    "deletable": false,
    "editable": false,
    "run_control": {
     "frozen": true
    }
   },
   "source": [
    "## 1. Tests en sortie de fonction\n",
    "\n",
    "On peut commencer par tester une fonction créée avec des résultats préalablement connus à vérifier."
   ]
  },
  {
   "cell_type": "markdown",
   "metadata": {},
   "source": [
    "**Exercice 1** : Écrire une fonction qui prend tous les éléments d'une liste et les multiplie par 2."
   ]
  },
  {
   "cell_type": "code",
   "execution_count": null,
   "metadata": {},
   "outputs": [],
   "source": [
    "def multiplicationPar2(liste):\n",
    "    pass"
   ]
  },
  {
   "cell_type": "code",
   "execution_count": null,
   "metadata": {},
   "outputs": [],
   "source": [
    "multiplicationPar2([1,2,3,4,5]) # résultat attendu : [2, 4, 6, 8, 10]"
   ]
  },
  {
   "cell_type": "markdown",
   "metadata": {},
   "source": [
    "Cet algorithme doit pouvoir marcher pour des listes contenant plusieurs types de variables :\n",
    "* liste d'entiers\n",
    "* liste de flottants\n",
    "* liste de chaînes de caractères\n",
    "* liste de booléens\n"
   ]
  },
  {
   "cell_type": "markdown",
   "metadata": {},
   "source": [
    "**Exercice 2 :**\n",
    "1. Proposer des tests basiques dont on connait le résultat d'avance pour des listes dans les catégories évoquées ci-dessus.\n",
    "\n",
    "On donne un exemple ci-dessous, pour des entiers :"
   ]
  },
  {
   "cell_type": "code",
   "execution_count": null,
   "metadata": {},
   "outputs": [],
   "source": [
    "# Exemple 1 : cas simple de liste d'entiers\n",
    "multiplicationPar2([1,2,3,4,5]) == [2,4,6,8,10] # Doit renvoyer True\n"
   ]
  },
  {
   "cell_type": "code",
   "execution_count": null,
   "metadata": {},
   "outputs": [],
   "source": [
    "# Tests ici\n"
   ]
  },
  {
   "cell_type": "markdown",
   "metadata": {},
   "source": [
    "2. Il reste un cas particulier important de liste que l'on n'a pas testé ici. Déterminer quelle est cette liste qui pourrait poser des problèmes."
   ]
  },
  {
   "cell_type": "code",
   "execution_count": null,
   "metadata": {},
   "outputs": [],
   "source": [
    "# Test ici\n"
   ]
  },
  {
   "cell_type": "markdown",
   "metadata": {},
   "source": [
    "**&rarr; Usuellement, il est préférable d'écrire à l'avance les tests que l'on attend pour la fonction.**"
   ]
  },
  {
   "cell_type": "markdown",
   "metadata": {},
   "source": [
    "**Exercice 3** :\n",
    "1. Écrire des tests pour la fonction `echangeElementsExtremesListe` qui échange le premier et le dernier élément d'une liste."
   ]
  },
  {
   "cell_type": "code",
   "execution_count": null,
   "metadata": {},
   "outputs": [],
   "source": [
    "# Exemples de tests :\n"
   ]
  },
  {
   "cell_type": "markdown",
   "metadata": {},
   "source": [
    "2. Dans un second temps, coder cette fonction."
   ]
  },
  {
   "cell_type": "code",
   "execution_count": null,
   "metadata": {},
   "outputs": [],
   "source": [
    "def echangeElementsExtremesListe(liste):\n",
    "    pass\n"
   ]
  },
  {
   "cell_type": "markdown",
   "metadata": {},
   "source": [
    "3. Créer un test avec la liste des entiers de 1 à 1000."
   ]
  },
  {
   "cell_type": "code",
   "execution_count": null,
   "metadata": {},
   "outputs": [],
   "source": [
    "# Test ici\n"
   ]
  },
  {
   "cell_type": "markdown",
   "metadata": {},
   "source": [
    "4. Créer un test avec une liste qui contient... des listes !"
   ]
  },
  {
   "cell_type": "code",
   "execution_count": null,
   "metadata": {},
   "outputs": [],
   "source": [
    "# Test ici\n"
   ]
  },
  {
   "cell_type": "markdown",
   "metadata": {},
   "source": [
    "## 2. La fonction assert\n",
    "\n",
    "La fonction `assert` est une fonction standard de Python qui sert à insérer des tests simples à l'intérieur d'un programme.\n",
    "\n",
    "Elle arrête le programme et renvoie une erreur en cas de condition non vérifiée.\n",
    "\n",
    "Elle se code ainsi : <span style=\"background:#eee;font-family:mono\"><span style=\"color:green;font-weight:bold\">assert</span><span style=\"font-style:italic\"> condition</span></span>.\n",
    "\n",
    "Testons sur l'exemple suivant :\n"
   ]
  },
  {
   "cell_type": "code",
   "execution_count": null,
   "metadata": {},
   "outputs": [],
   "source": [
    "def affichageNombreEntier(entier):\n",
    "    assert type(entier) == int\n",
    "    print(entier)\n"
   ]
  },
  {
   "cell_type": "code",
   "execution_count": null,
   "metadata": {},
   "outputs": [],
   "source": [
    "# Si le nombre saisi est un entier, le programme s'exécute :\n",
    "affichageNombreEntier(5)\n"
   ]
  },
  {
   "cell_type": "code",
   "execution_count": null,
   "metadata": {},
   "outputs": [],
   "source": [
    "# Sinon, le programme renvoie une erreur :\n",
    "affichageNombreEntier(\"a\")\n"
   ]
  },
  {
   "cell_type": "markdown",
   "metadata": {},
   "source": [
    "On peut étoffer cette fonction en lui donnant un argument supplémentaire qui explique l'erreur :\n",
    "<span style=\"background:#eee;font-family:mono\"><span style=\"color:green;font-weight:bold\">assert</span><span style=\"font-style:italic\"> condition, explication</span></span>"
   ]
  },
  {
   "cell_type": "code",
   "execution_count": null,
   "metadata": {},
   "outputs": [],
   "source": [
    "def affichageNombreSuperieurA100(nombre):\n",
    "    assert type(nombre) == int or type(nombre) == float, \"Nombre entier ou flottant attendu\"\n",
    "    assert nombre > 100, \"Nombre attendu supérieur strict à 100\"\n",
    "    print(nombre)\n",
    "    "
   ]
  },
  {
   "cell_type": "code",
   "execution_count": null,
   "metadata": {},
   "outputs": [],
   "source": [
    "# Rappel : un exemple de condition double comme dans l'assertion du programme ci-dessus\n",
    "nombre = \"5.3\"\n",
    "type(nombre) == int or type(nombre) == float\n"
   ]
  },
  {
   "cell_type": "code",
   "execution_count": null,
   "metadata": {},
   "outputs": [],
   "source": [
    "affichageNombreSuperieurA100(\"test\")\n"
   ]
  },
  {
   "cell_type": "code",
   "execution_count": null,
   "metadata": {},
   "outputs": [],
   "source": [
    "affichageNombreSuperieurA100(75.8)\n"
   ]
  },
  {
   "cell_type": "code",
   "execution_count": null,
   "metadata": {},
   "outputs": [],
   "source": [
    "affichageNombreSuperieurA100(121.2)\n"
   ]
  },
  {
   "cell_type": "markdown",
   "metadata": {},
   "source": [
    "**Exercice 4** : Créer une fonction qui prend deux listes de nombres ayant la même taille et qui renvoie une liste avec la somme des éléments.\n",
    "\n",
    "Ajouter des assertions sur les tailles de liste et le type d'élément."
   ]
  },
  {
   "cell_type": "code",
   "execution_count": null,
   "metadata": {},
   "outputs": [],
   "source": [
    "def ajoutListesNombres(liste1, liste2):\n",
    "    pass\n"
   ]
  },
  {
   "cell_type": "markdown",
   "metadata": {},
   "source": [
    "## 3. Documentation d'une fonction...\n",
    "\n",
    "On peut **documenter** une fonction afin de donner des explications pour un utilisateur non averti.\n",
    "\n",
    "Cela permettra à l'utilisateur de voir apparaître la documentation à l'appel de la fonction `help`.\n",
    "\n",
    "La documentation se met juste après l'appel de fonction entre deux blocs de triples guillemets :\n",
    "```\n",
    "def fonction(arguments):\n",
    "    \"\"\"\n",
    "    documentation\n",
    "    \"\"\"\n",
    "    contenu de la fonction\n",
    "```\n"
   ]
  },
  {
   "cell_type": "code",
   "execution_count": null,
   "metadata": {},
   "outputs": [],
   "source": [
    "from random import randint\n",
    "\n",
    "help(randint)\n"
   ]
  },
  {
   "cell_type": "code",
   "execution_count": null,
   "metadata": {},
   "outputs": [],
   "source": [
    "from random import randint\n",
    "\n",
    "def sommeDes(a,b):\n",
    "    \"\"\"\n",
    "    Cette fonction fait la somme de deux dés et renvoie le résultat.\n",
    "    * a est le nombre de faces du premier dé ;\n",
    "    * b est le nombre de faces du second dé.\n",
    "    \"\"\"\n",
    "    return randint(1,a)+randint(1,b)\n"
   ]
  },
  {
   "cell_type": "code",
   "execution_count": null,
   "metadata": {
    "scrolled": true
   },
   "outputs": [],
   "source": [
    "help(sommeDes)\n"
   ]
  },
  {
   "cell_type": "markdown",
   "metadata": {},
   "source": [
    "**Exercice 5** : Rajouter dans la fonction précédente les assertions nécessaires pour `a` et `b`."
   ]
  },
  {
   "cell_type": "markdown",
   "metadata": {},
   "source": [
    "## ... et tests\n",
    " \n",
    "Une bibliothèque spécifique aux tests permet d'en inclure directement dans la documentation de la fonction.\n",
    "\n",
    "Il s'agit de `doctest`. Importons d'abord cette bibliothèque :"
   ]
  },
  {
   "cell_type": "code",
   "execution_count": null,
   "metadata": {},
   "outputs": [],
   "source": [
    "import doctest\n"
   ]
  },
  {
   "cell_type": "code",
   "execution_count": null,
   "metadata": {},
   "outputs": [],
   "source": [
    "# Prenons l'exemple de la fonction produit :\n",
    "def produit(nombre1,nombre2):\n",
    "    \"\"\"\n",
    "    renvoie le produit de deux nombres\n",
    "    \n",
    "    >>> produit(1,1)\n",
    "    1\n",
    "    >>> produit(7,3)\n",
    "    21\n",
    "    >>> produit(\"ahah\",3)\n",
    "    'ahahahahahah'\n",
    "    \"\"\"\n",
    "    return nombre1*nombre2\n"
   ]
  },
  {
   "cell_type": "code",
   "execution_count": null,
   "metadata": {},
   "outputs": [],
   "source": [
    "# Faisons appel au test :\n",
    "doctest.testmod()\n"
   ]
  },
  {
   "cell_type": "markdown",
   "metadata": {},
   "source": [
    "L'instruction ci-dessus est un test manuel des fonctions. Il est possible d'automatiser le test à chaque lancement du fichier en rajoutant les instructions suivantes en fin de fichier :"
   ]
  },
  {
   "cell_type": "code",
   "execution_count": null,
   "metadata": {},
   "outputs": [],
   "source": [
    "if __name__ == \"__main__\":\n",
    "    import doctest\n",
    "    doctest.testmod()\n",
    "    "
   ]
  },
  {
   "cell_type": "markdown",
   "metadata": {},
   "source": [
    "Attention, ces tests automatiques **ne fonctionnent pas** le cas dans un notebook Jupyter, mais cela sera utile dans un fichier Python (ouvert via un IDE comme Thonny ou exécuté directement depuis un terminal via la console Python)."
   ]
  },
  {
   "cell_type": "markdown",
   "metadata": {},
   "source": [
    "**Exercice 6** : Documenter les fonctions précédemment codées en y incluant des exemples de tests via doctest. On les recopiera ci-dessous pour ne pas brouiller la relecture du TP."
   ]
  },
  {
   "cell_type": "code",
   "execution_count": null,
   "metadata": {},
   "outputs": [],
   "source": [
    "def multiplicationPar2(liste):\n",
    "    pass\n"
   ]
  },
  {
   "cell_type": "code",
   "execution_count": null,
   "metadata": {},
   "outputs": [],
   "source": [
    "def echangeElementsExtremesListe(liste):\n",
    "    pass\n"
   ]
  },
  {
   "cell_type": "code",
   "execution_count": null,
   "metadata": {},
   "outputs": [],
   "source": [
    "def affichageNombreEntier(entier):\n",
    "    assert type(entier) == int\n",
    "    print(entier)\n"
   ]
  },
  {
   "cell_type": "code",
   "execution_count": null,
   "metadata": {},
   "outputs": [],
   "source": [
    "def affichageNombreSuperieurA100(nombre):\n",
    "    assert type(nombre) == int or type(nombre) == float, \"Nombre entier ou flottant attendu\"\n",
    "    assert nombre > 100, \"Nombre attendu supérieur strict à 100\"\n",
    "    print(nombre)\n",
    "    "
   ]
  },
  {
   "cell_type": "code",
   "execution_count": null,
   "metadata": {},
   "outputs": [],
   "source": [
    "def ajoutListesNombres(liste1, liste2):\n",
    "    pass\n"
   ]
  },
  {
   "cell_type": "code",
   "execution_count": null,
   "metadata": {},
   "outputs": [],
   "source": [
    "def sommeDes(a,b):\n",
    "    \"\"\"\n",
    "    Cette fonction fait la somme de deux dés et renvoie le résultat.\n",
    "    * a est le nombre de faces du premier dé ;\n",
    "    * b est le nombre de faces du second dé.\n",
    "    \n",
    "    >>> type(sommeDes(6,6)) == int\n",
    "    True\n",
    "\n",
    "    >>> 1<sommeDes(6,6)<13\n",
    "    True\n",
    "    \"\"\"\n",
    "    return randint(1,a)+randint(1,b)\n"
   ]
  },
  {
   "cell_type": "markdown",
   "metadata": {},
   "source": [
    "Pour ce dernier exemple, la somme part de nombres aléatoires. Ce qu'on peut tester, c'est un encadrement du résultat et le type de résultat :\n",
    "```\n",
    ">>> type(sommeDes(6,6)) == int\n",
    "True\n",
    "\n",
    ">>> 1<sommeDes(6,6)<13\n",
    "True\n",
    "```"
   ]
  },
  {
   "cell_type": "code",
   "execution_count": null,
   "metadata": {},
   "outputs": [],
   "source": [
    "# Lancement des tests :\n",
    "doctest.testmod()\n"
   ]
  },
  {
   "cell_type": "markdown",
   "metadata": {},
   "source": [
    "Pour aller plus loin sur `doctest` : \n",
    "* La documentation standard de `doctest` sur <a href=\"https://docs.python.org/3.4/library/doctest.html\">python.org</a>\n",
    "* Le <a href=\"https://www.fil.univ-lille1.fr/~L1S2API/CoursTP/tp_doctest.html\">cours de première année</a> des licences MASS, PEIP et SESI parcours Maths/Info et Info/EEA à l'Université de Lille."
   ]
  }
 ],
 "metadata": {
  "kernelspec": {
   "display_name": "Python 3",
   "language": "python",
   "name": "python3"
  },
  "language_info": {
   "codemirror_mode": {
    "name": "ipython",
    "version": 3
   },
   "file_extension": ".py",
   "mimetype": "text/x-python",
   "name": "python",
   "nbconvert_exporter": "python",
   "pygments_lexer": "ipython3",
   "version": "3.7.3"
  }
 },
 "nbformat": 4,
 "nbformat_minor": 2
}
