{
 "cells": [
  {
   "cell_type": "markdown",
   "metadata": {
    "deletable": false,
    "editable": false,
    "run_control": {
     "frozen": true
    }
   },
   "source": [
    "Pour le bon fonctionnement du TP, exécuter le code suivant au démarrage :"
   ]
  },
  {
   "cell_type": "code",
   "execution_count": 98,
   "metadata": {
    "deletable": false,
    "editable": false
   },
   "outputs": [
    {
     "data": {
      "text/html": [
       "<script src=\"jquery-3.5.1.min.js\"></script>\n",
       "<script src=\"test.js\"></script>\n"
      ],
      "text/plain": [
       "<IPython.core.display.HTML object>"
      ]
     },
     "metadata": {},
     "output_type": "display_data"
    }
   ],
   "source": [
    "%%HTML\n",
    "<script src=\"jquery-3.5.1.min.js\"></script>\n",
    "<script src=\"test.js\"></script>"
   ]
  },
  {
   "cell_type": "markdown",
   "metadata": {
    "deletable": false,
    "editable": false,
    "run_control": {
     "frozen": true
    }
   },
   "source": [
    "<center> <h1> TP n°2 - POO et encapsulation </h1></center>\n",
    "\n",
    "Ce second TP aborde des notions de sécurité dans les classes.\n",
    "\n",
    "Pour des questions pratiques, nous travaillerons avec le langage Python même si ce langage n'est pas vraiment pensé en ce sens."
   ]
  },
  {
   "cell_type": "markdown",
   "metadata": {
    "deletable": false,
    "editable": false,
    "run_control": {
     "frozen": true
    }
   },
   "source": [
    "## I - Variables protégées :\n",
    "\n",
    "Certains langages orientés objet (C++ par exemple) bloquent l'accès à certains éléments de la classe pour des questions de sécurité.\n",
    "\n",
    "Il s'agit de rendre inaccessible certains attributs et/ou certaines méthodes dit&middot;es **privé&middot;es** depuis l'extérieur de la classe.\n",
    "\n",
    "Exemple ci-dessous :"
   ]
  },
  {
   "cell_type": "code",
   "execution_count": 36,
   "metadata": {
    "deletable": false,
    "editable": false
   },
   "outputs": [],
   "source": [
    "class Test:\n",
    "    def __init__(self):\n",
    "        self.attributPublic = 1\n",
    "        self.__attributPrive = 2"
   ]
  },
  {
   "cell_type": "markdown",
   "metadata": {
    "deletable": false,
    "editable": false,
    "run_control": {
     "frozen": true
    }
   },
   "source": [
    "L'attribut `attributPublic` est un attribut classique.\n",
    "\n",
    "Tout utilisateur peut modifier sa valeur en appelant la classe.\n",
    "\n"
   ]
  },
  {
   "cell_type": "code",
   "execution_count": 38,
   "metadata": {
    "deletable": false,
    "editable": false
   },
   "outputs": [
    {
     "name": "stdout",
     "output_type": "stream",
     "text": [
      "valeur de attributPublic : 1\n",
      "valeur de attributPublic : 3\n"
     ]
    }
   ],
   "source": [
    "exemple = Test()\n",
    "print(\"valeur de attributPublic :\",exemple.attributPublic)\n",
    "exemple.attributPublic = 3\n",
    "print(\"valeur de attributPublic :\",exemple.attributPublic)\n"
   ]
  },
  {
   "cell_type": "markdown",
   "metadata": {
    "deletable": false,
    "editable": false,
    "run_control": {
     "frozen": true
    }
   },
   "source": [
    "A contrario, le double *underscore* devant `__attributPrive` indique que la variable est supposée inaccessible depuis l'extérieur de la classe."
   ]
  },
  {
   "cell_type": "code",
   "execution_count": 71,
   "metadata": {
    "deletable": false,
    "editable": false
   },
   "outputs": [
    {
     "ename": "AttributeError",
     "evalue": "'Test' object has no attribute '__attributPrive'",
     "output_type": "error",
     "traceback": [
      "\u001b[0;31m---------------------------------------------------------------------------\u001b[0m",
      "\u001b[0;31mAttributeError\u001b[0m                            Traceback (most recent call last)",
      "\u001b[0;32m<ipython-input-71-fb569da9aaa3>\u001b[0m in \u001b[0;36m<module>\u001b[0;34m\u001b[0m\n\u001b[0;32m----> 1\u001b[0;31m \u001b[0mexemple\u001b[0m\u001b[0;34m.\u001b[0m\u001b[0m__attributPrive\u001b[0m\u001b[0;34m\u001b[0m\u001b[0;34m\u001b[0m\u001b[0m\n\u001b[0m",
      "\u001b[0;31mAttributeError\u001b[0m: 'Test' object has no attribute '__attributPrive'"
     ]
    }
   ],
   "source": [
    "exemple.__attributPrive # message d'erreur attendu"
   ]
  },
  {
   "cell_type": "markdown",
   "metadata": {
    "deletable": false,
    "editable": false,
    "run_control": {
     "frozen": true
    }
   },
   "source": [
    "Quel est l'intérêt de variables privées ?\n",
    "Prenons l'exemple suivant :"
   ]
  },
  {
   "cell_type": "code",
   "execution_count": 1,
   "metadata": {
    "deletable": false,
    "editable": false
   },
   "outputs": [],
   "source": [
    "class Personnage:\n",
    "    def __init__(self):\n",
    "        self.pointsDeVie = 50\n",
    "        "
   ]
  },
  {
   "cell_type": "code",
   "execution_count": 2,
   "metadata": {
    "deletable": false,
    "editable": false
   },
   "outputs": [],
   "source": [
    "heros = Personnage()\n"
   ]
  },
  {
   "cell_type": "markdown",
   "metadata": {
    "deletable": false,
    "editable": false,
    "run_control": {
     "frozen": true
    }
   },
   "source": [
    "Il est important que le joueur ne puisse pas rebooster sa vie grâce à une manipulation du type :\n"
   ]
  },
  {
   "cell_type": "code",
   "execution_count": 49,
   "metadata": {
    "deletable": false,
    "editable": false
   },
   "outputs": [
    {
     "data": {
      "text/plain": [
       "{'pointsDeVie': 100}"
      ]
     },
     "execution_count": 49,
     "metadata": {},
     "output_type": "execute_result"
    }
   ],
   "source": [
    "#Triche :\n",
    "heros.pointsDeVie = 100\n",
    "\n",
    "# Affichage :\n",
    "heros.__dict__\n"
   ]
  },
  {
   "cell_type": "markdown",
   "metadata": {
    "deletable": false,
    "editable": false,
    "run_control": {
     "frozen": true
    }
   },
   "source": [
    "Ainsi, on pourra faire en sorte de rendre la variable comptant les points de vie d'un héros privée.\n",
    "\n",
    "Cela permettra de rendre la modification possible uniquement de l'intérieur."
   ]
  },
  {
   "cell_type": "markdown",
   "metadata": {
    "deletable": false,
    "editable": false,
    "run_control": {
     "frozen": true
    }
   },
   "source": [
    "## II - Getters et setters :\n",
    "\n",
    "On étoffe un peu la classe `Personnage` avec le code ci-dessous :"
   ]
  },
  {
   "cell_type": "code",
   "execution_count": 72,
   "metadata": {
    "deletable": false,
    "editable": false
   },
   "outputs": [],
   "source": [
    "class Personnage:\n",
    "    def __init__(self):\n",
    "        self.__pointsDeVie = 50\n",
    "    \n",
    "    def getPointsDeVie(self):\n",
    "        return self.__pointsDeVie\n",
    "    \n",
    "    def attaque(self, autrePersonnage):\n",
    "        from random import randint\n",
    "        autrePersonnage.__pointsDeVie -= randint(1,5)\n"
   ]
  },
  {
   "cell_type": "code",
   "execution_count": 73,
   "metadata": {
    "deletable": false,
    "editable": false
   },
   "outputs": [],
   "source": [
    "heros = Personnage()\n",
    "monstre = Personnage()\n"
   ]
  },
  {
   "cell_type": "markdown",
   "metadata": {
    "deletable": false,
    "editable": false,
    "run_control": {
     "frozen": true
    }
   },
   "source": [
    "La variable `__pointsDeVie` est inaccessible depuis l'extérieur de la classe, donc non modifiable."
   ]
  },
  {
   "cell_type": "code",
   "execution_count": 78,
   "metadata": {
    "deletable": false,
    "editable": false
   },
   "outputs": [
    {
     "ename": "AttributeError",
     "evalue": "'Personnage' object has no attribute '__pointsDeVie'",
     "output_type": "error",
     "traceback": [
      "\u001b[0;31m---------------------------------------------------------------------------\u001b[0m",
      "\u001b[0;31mAttributeError\u001b[0m                            Traceback (most recent call last)",
      "\u001b[0;32m<ipython-input-78-b48ead85082d>\u001b[0m in \u001b[0;36m<module>\u001b[0;34m\u001b[0m\n\u001b[1;32m      1\u001b[0m \u001b[0;31m# La commande ci-dessous ne marche pas :\u001b[0m\u001b[0;34m\u001b[0m\u001b[0;34m\u001b[0m\u001b[0;34m\u001b[0m\u001b[0m\n\u001b[0;32m----> 2\u001b[0;31m \u001b[0mheros\u001b[0m\u001b[0;34m.\u001b[0m\u001b[0m__pointsDeVie\u001b[0m\u001b[0;34m\u001b[0m\u001b[0;34m\u001b[0m\u001b[0m\n\u001b[0m",
      "\u001b[0;31mAttributeError\u001b[0m: 'Personnage' object has no attribute '__pointsDeVie'"
     ]
    }
   ],
   "source": [
    "# La commande ci-dessous ne marche pas :\n",
    "heros.__pointsDeVie\n"
   ]
  },
  {
   "cell_type": "markdown",
   "metadata": {
    "deletable": false,
    "editable": false,
    "run_control": {
     "frozen": true
    }
   },
   "source": [
    "Pour voir les points de vie d'un personnage, on fait donc appel à une **méthode interne** à la classe.\n",
    "\n",
    "Cette méthode étant **dans** la classe, elle a bien accès à la variable `__pointsDeVie`.\n",
    "\n",
    "On appelle cette méthode un ***getter*** (de *get* : obtenir)."
   ]
  },
  {
   "cell_type": "code",
   "execution_count": 80,
   "metadata": {
    "deletable": false,
    "editable": false
   },
   "outputs": [
    {
     "data": {
      "text/plain": [
       "50"
      ]
     },
     "execution_count": 80,
     "metadata": {},
     "output_type": "execute_result"
    }
   ],
   "source": [
    "heros.getPointsDeVie()\n"
   ]
  },
  {
   "cell_type": "markdown",
   "metadata": {
    "deletable": false,
    "editable": false,
    "run_control": {
     "frozen": true
    }
   },
   "source": [
    "Ainsi, la seule manière de modifier la variable `__pointsDeVie` est de faire appel à la méthode `attaque`."
   ]
  },
  {
   "cell_type": "code",
   "execution_count": 61,
   "metadata": {
    "deletable": false,
    "editable": false
   },
   "outputs": [
    {
     "data": {
      "text/plain": [
       "41"
      ]
     },
     "execution_count": 61,
     "metadata": {},
     "output_type": "execute_result"
    }
   ],
   "source": [
    "heros.attaque(monstre)\n",
    "\n",
    "monstre.getPointsDeVie()\n"
   ]
  },
  {
   "cell_type": "markdown",
   "metadata": {
    "deletable": false,
    "editable": false,
    "run_control": {
     "frozen": true
    }
   },
   "source": [
    "Si on souhaite avoir un accès permettant de modifier directement la valeur de `__pointsDeVie`, on crée donc une méthode supplémentaire appelée ***setter*** (de *set* : affecter, mettre en place)."
   ]
  },
  {
   "cell_type": "code",
   "execution_count": 81,
   "metadata": {
    "deletable": false,
    "editable": false
   },
   "outputs": [],
   "source": [
    "class Personnage:\n",
    "    def __init__(self):\n",
    "        self.__pointsDeVie = 50\n",
    "    \n",
    "    # Getter\n",
    "    def getPointsDeVie(self):\n",
    "        return self.__pointsDeVie\n",
    "    \n",
    "    # Setter\n",
    "    def setPointsDeVie(self, nouvelleValeur):\n",
    "        self.__pointsDeVie = nouvelleValeur\n",
    "    \n",
    "    # Autre méthode\n",
    "    def attaque(self, autrePersonnage):\n",
    "        from random import randint\n",
    "        autrePersonnage.__pointsDeVie -= randint(1,5)\n"
   ]
  },
  {
   "cell_type": "markdown",
   "metadata": {
    "deletable": false,
    "editable": false,
    "run_control": {
     "frozen": true
    }
   },
   "source": [
    "&rarr; C'est a priori une méthode à proscrire dans notre exemple de personnage, qui ne doit pas pouvoir directement modifier sa vie."
   ]
  },
  {
   "cell_type": "markdown",
   "metadata": {
    "deletable": false,
    "editable": false,
    "run_control": {
     "frozen": true
    }
   },
   "source": [
    "## III - Exercices :\n",
    "\n",
    "Prenons l'exemple suivant :"
   ]
  },
  {
   "cell_type": "code",
   "execution_count": 95,
   "metadata": {
    "deletable": false,
    "editable": false
   },
   "outputs": [
    {
     "data": {
      "text/plain": [
       "(3, 1, 1)"
      ]
     },
     "execution_count": 95,
     "metadata": {},
     "output_type": "execute_result"
    }
   ],
   "source": [
    "class Exercice:\n",
    "    __premier = 0\n",
    "    \n",
    "    def __init__(self, valeur):\n",
    "        self.second = valeur - Exercice.__premier\n",
    "        self.__troisieme = valeur\n",
    "        Exercice.__premier += 1\n",
    "\n",
    "exercice1 = Exercice(1)\n",
    "exercice2 = Exercice(2)\n",
    "exercice3 = Exercice(3)"
   ]
  },
  {
   "cell_type": "markdown",
   "metadata": {},
   "source": [
    "1. Comment appelle-t-on `__premier` ?\n",
    "\n",
    "<center>\n",
    "    <input type=\"radio\" name=\"test1\" />un attribut d'instance\n",
    "    <input type=\"radio\" name=\"test1\" />un attribut de classe\n",
    "    <input type=\"radio\" name=\"test1\" />un attribut privé d'instance\n",
    "    <input type=\"radio\" name=\"test1\" class=\"ok\" />un attribut privé de classe\n",
    "</center>\n",
    "\n",
    "<div class=\"reponse1\"></div>"
   ]
  },
  {
   "cell_type": "markdown",
   "metadata": {
    "deletable": false,
    "editable": false,
    "run_control": {
     "frozen": true
    }
   },
   "source": [
    "2. Que renvoie `exercice2.__premier` ?\n",
    "\n",
    "<center>\n",
    "    <input type=\"radio\" name=\"test2\" />une description de l'objet\n",
    "    <input type=\"radio\" name=\"test2\" />0\n",
    "    <input type=\"radio\" name=\"test2\" />1\n",
    "    <input type=\"radio\" name=\"test2\" class=\"ok\" />une erreur\n",
    "</center>\n",
    "\n",
    "<div class=\"reponse2\"></div>"
   ]
  },
  {
   "cell_type": "markdown",
   "metadata": {
    "deletable": false,
    "editable": false,
    "run_control": {
     "frozen": true
    }
   },
   "source": [
    "3. Que renvoie `exercice2.second` ?\n",
    "\n",
    "<center>\n",
    "    <input type=\"radio\" name=\"test3\" />une description de l'objet\n",
    "    <input type=\"radio\" name=\"test3\" />0\n",
    "    <input type=\"radio\" name=\"test3\" class=\"ok\" />1\n",
    "    <input type=\"radio\" name=\"test3\" />une erreur\n",
    "</center>\n",
    "\n",
    "<div class=\"reponse3\"></div>"
   ]
  },
  {
   "cell_type": "markdown",
   "metadata": {
    "deletable": false,
    "editable": false,
    "run_control": {
     "frozen": true
    }
   },
   "source": [
    "4. On ajoute la méthode suivante à la classe et on exécute à nouveau le code :\n",
    "```\n",
    "    def get(self):\n",
    "        return self.__premier, self.second, self.__troisieme\n",
    "```\n",
    "\n",
    "Que renvoie `exercice3.get()` ?\n",
    "\n",
    "<center>\n",
    "    <input type=\"radio\" name=\"test4\" />(1,1,3)\n",
    "    <input type=\"radio\" name=\"test4\" />(1,2,3)\n",
    "    <input type=\"radio\" name=\"test4\" />(3,1,3)\n",
    "    <input type=\"radio\" name=\"test4\" />une erreur\n",
    "</center>\n",
    "\n",
    "<div class=\"reponse4\"></div>"
   ]
  },
  {
   "cell_type": "markdown",
   "metadata": {},
   "source": [
    "5. Créer un setter pour `__troisieme` dans la classe `Exercice`."
   ]
  },
  {
   "cell_type": "markdown",
   "metadata": {},
   "source": [
    "6. Créer une classe CompteBancaire qui comprend :\n",
    "* un attribut privé `solde` qui est initialisé à une valeur `soldeInitial` fournie à la création d'une instance.\n",
    "* un attribut privé `plancher` qui vaut `-250`.\n",
    "* une méthode publique `getSolde` permettant d'afficher le solde du compte.\n",
    "* une méthode publique `depot` qui permet de déposer une somme `S` du compte.\n",
    "* une méthode publique `retrait` qui permet de retirer une somme `S` du compte.\n",
    "* une méthode privée `verifPlancher` qui est appelée par la méthode `retrait` pour vérifier si la somme retirée ne fait pas tomber le compte en deçà du plancher."
   ]
  },
  {
   "cell_type": "code",
   "execution_count": 5,
   "metadata": {},
   "outputs": [],
   "source": [
    "class CompteBancaire:\n",
    "    pass"
   ]
  },
  {
   "cell_type": "markdown",
   "metadata": {},
   "source": [
    "## IV - Python et encapsulation :\n",
    "\n",
    "Reprenons l'exemple de classe initial du TP :"
   ]
  },
  {
   "cell_type": "code",
   "execution_count": 67,
   "metadata": {},
   "outputs": [],
   "source": [
    "class Test:\n",
    "    def __init__(self):\n",
    "        self.attributPublic = 1\n",
    "        self.__attributPrive = 2"
   ]
  },
  {
   "cell_type": "code",
   "execution_count": 68,
   "metadata": {},
   "outputs": [],
   "source": [
    "exemple = Test()"
   ]
  },
  {
   "cell_type": "code",
   "execution_count": 69,
   "metadata": {},
   "outputs": [
    {
     "ename": "AttributeError",
     "evalue": "'Test' object has no attribute '__attributPrive'",
     "output_type": "error",
     "traceback": [
      "\u001b[0;31m---------------------------------------------------------------------------\u001b[0m",
      "\u001b[0;31mAttributeError\u001b[0m                            Traceback (most recent call last)",
      "\u001b[0;32m<ipython-input-69-4dd8d8d3a388>\u001b[0m in \u001b[0;36m<module>\u001b[0;34m\u001b[0m\n\u001b[1;32m      1\u001b[0m \u001b[0;31m# Attribut supposé inaccessible :\u001b[0m\u001b[0;34m\u001b[0m\u001b[0;34m\u001b[0m\u001b[0;34m\u001b[0m\u001b[0m\n\u001b[0;32m----> 2\u001b[0;31m \u001b[0mexemple\u001b[0m\u001b[0;34m.\u001b[0m\u001b[0m__attributPrive\u001b[0m\u001b[0;34m\u001b[0m\u001b[0;34m\u001b[0m\u001b[0m\n\u001b[0m",
      "\u001b[0;31mAttributeError\u001b[0m: 'Test' object has no attribute '__attributPrive'"
     ]
    }
   ],
   "source": [
    "# Attribut supposé inaccessible :\n",
    "exemple.__attributPrive"
   ]
  },
  {
   "cell_type": "markdown",
   "metadata": {},
   "source": [
    "En réalité, Python n'est pas un langage respectant une stricte encapsulation.\n",
    "\n",
    "**Python ne bloque pas réellement l'accès aux variables.**\n",
    "\n",
    "Ainsi, la variable `__attributPrive` va être accessible via `_Test__attributPrive`. On parle de *name mangling* (décoration de nom).\n",
    "\n",
    "Nous considérerons néanmoins par convention que l'ajout d'un ou deux *underscores* devant le nom d'une variable est une indication pour la rendre **privée**.\n",
    "\n"
   ]
  },
  {
   "cell_type": "code",
   "execution_count": 70,
   "metadata": {},
   "outputs": [
    {
     "data": {
      "text/plain": [
       "2"
      ]
     },
     "execution_count": 70,
     "metadata": {},
     "output_type": "execute_result"
    }
   ],
   "source": [
    "exemple._Test__attributPrive"
   ]
  },
  {
   "cell_type": "markdown",
   "metadata": {},
   "source": [
    "Une majorité de langages utilisant la Programmation Orientée Objet (*C++*, *Java*, *php* notamment) bloque réellement l'accès aux attributs et méthodes.\n",
    "\n",
    "Nous l'illustrons avec le langage *php* dans un complément à ce TP.\n",
    "\n",
    "Voir le fichier complémentaire."
   ]
  }
 ],
 "metadata": {
  "kernelspec": {
   "display_name": "Python 3",
   "language": "python",
   "name": "python3"
  },
  "language_info": {
   "codemirror_mode": {
    "name": "ipython",
    "version": 3
   },
   "file_extension": ".py",
   "mimetype": "text/x-python",
   "name": "python",
   "nbconvert_exporter": "python",
   "pygments_lexer": "ipython3",
   "version": "3.7.3"
  }
 },
 "nbformat": 4,
 "nbformat_minor": 4
}
