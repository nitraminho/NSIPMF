{
 "cells": [
  {
   "cell_type": "markdown",
   "metadata": {
    "deletable": false,
    "editable": false,
    "run_control": {
     "frozen": true
    }
   },
   "source": [
    "<center> <h1> TP n°2 - FONCTIONS </h1></center>\n",
    "\n",
    "*Cette série de TP est l'occasion de refaire le point sur vos compétences en Python : on y reprend les bases du langage.*"
   ]
  },
  {
   "cell_type": "markdown",
   "metadata": {
    "deletable": false,
    "editable": false,
    "run_control": {
     "frozen": true
    }
   },
   "source": [
    "## I - Principe :\n",
    "Lorsqu'on doit faire une procédure de calcul qui peut nous servir plusieurs fois, on construit alors une **fonction**.\n",
    "\n",
    "Par exemple, voici une fonction qui donne l'aire d'un carré :"
   ]
  },
  {
   "cell_type": "code",
   "execution_count": null,
   "metadata": {},
   "outputs": [],
   "source": [
    "def aireCarre(cote):\n",
    "    aire = cote**2\n",
    "    return aire\n"
   ]
  },
  {
   "cell_type": "markdown",
   "metadata": {
    "deletable": false,
    "editable": false,
    "run_control": {
     "frozen": true
    }
   },
   "source": [
    "Cette fonction nécessite un **paramètre** pour fonctionner : la longueur du côté du carré.\n",
    "\n",
    "Une fois définie ci-dessus, on peut faire appel à la fonction pour toute valeur qui nous intéresse. Ainsi :"
   ]
  },
  {
   "cell_type": "code",
   "execution_count": null,
   "metadata": {},
   "outputs": [],
   "source": [
    "aireCarre(5)\n"
   ]
  },
  {
   "cell_type": "markdown",
   "metadata": {
    "deletable": false,
    "editable": false,
    "run_control": {
     "frozen": true
    }
   },
   "source": [
    "Ci-dessus, la valeur fournie pour le paramètre `cote` est 5. On parle d'**argument** fourni à la fonction."
   ]
  },
  {
   "cell_type": "code",
   "execution_count": null,
   "metadata": {},
   "outputs": [],
   "source": [
    "aireCarre(12.5)\n"
   ]
  },
  {
   "cell_type": "markdown",
   "metadata": {
    "deletable": false,
    "editable": false,
    "run_control": {
     "frozen": true
    }
   },
   "source": [
    "⚠ Distinction entre **paramètre** et **argument** :\n",
    "* `cote` est le paramètre de la fonction : il sert au codage de la fonction\n",
    "* `5` et `12.5` sont des arguments donnés à la fonction pour une seule utilisation. Elles permettent d'attribuer une valeur au paramètre `cote` lors de l'utilisation de la fonction."
   ]
  },
  {
   "cell_type": "markdown",
   "metadata": {
    "deletable": false,
    "editable": false,
    "run_control": {
     "frozen": true
    }
   },
   "source": [
    "La structure de définition d'une fonction doit respecter plusieurs règles :\n",
    "* Toute création de fonction commence par <span style=\"color:green;background:#eee\">&nbsp;**def**&nbsp;</span> suivi du nom de la fonction et, entre parenthèses, de ses éventuels paramètres, avant de finir par le symbole **`:`** (*deux points*)\n",
    "* Ces deux points en fin de première ligne annoncent la présence aux lignes suivantes d'un **bloc d'instructions**. Une fonction est en effet composée d'une série d'instructions et il faut que Python sache quelles instructions **font partie** de la fonction.\n",
    "* Pour que Python comprenne quelles instructions sont dans le bloc de la fonction, il faut **indenter** les lignes suivantes, c'est-à-dire décaler légèrement chaque ligne de code par rapport au début de la ligne (à l'aide de l'espace ou de la touche de Tabulation). Lorsqu'on finit une instruction par **`:`**, Python indente naturellement la ligne suivante lorsque l'on appuie sur la touche **Entrée**.\n",
    "* En fin de fonction, on utilise la commande <span style=\"color:green;background:#eee\">&nbsp;**return**&nbsp;</span> pour que la fonction renvoie une valeur à l'utilisateur. Il ne s'agit pas d'afficher forcément une valeur, mais bien de la rendre disponible, par exemple pour la stocker en mémoire. Ainsi :"
   ]
  },
  {
   "cell_type": "code",
   "execution_count": null,
   "metadata": {},
   "outputs": [],
   "source": [
    "surface = aireCarre(24) # Stocke la valeur de l'aire du carré de côté 24 dans une variable appelée surface\n",
    "\n",
    "doubleSurface = surface*2\n",
    "print(doubleSurface) # l'affichage final utilise bien le résultat fourni par la fonction aireCarre\n"
   ]
  },
  {
   "cell_type": "markdown",
   "metadata": {
    "deletable": false,
    "editable": false,
    "run_control": {
     "frozen": true
    }
   },
   "source": [
    "Entraînons-nous à créer des fonctions simples :"
   ]
  },
  {
   "cell_type": "markdown",
   "metadata": {
    "deletable": false,
    "editable": false,
    "run_control": {
     "frozen": true
    }
   },
   "source": [
    "**Exercice 1 :** Créer une fonction qui, à partir d'un nombre, renvoie son quadruple."
   ]
  },
  {
   "cell_type": "code",
   "execution_count": null,
   "metadata": {},
   "outputs": [],
   "source": [
    "# Exercice ici :\n",
    "def quadruple(nombre):\n",
    "    pass # à la place du mot pass, compléter le code de la fonction\n"
   ]
  },
  {
   "cell_type": "code",
   "execution_count": null,
   "metadata": {},
   "outputs": [],
   "source": [
    "# Tester cette fonction avec plusieurs valeurs :\n",
    "quadruple(1)"
   ]
  },
  {
   "cell_type": "code",
   "execution_count": null,
   "metadata": {},
   "outputs": [],
   "source": [
    "quadruple(27.5)"
   ]
  },
  {
   "cell_type": "code",
   "execution_count": null,
   "metadata": {},
   "outputs": [],
   "source": [
    "quadruple(-89)"
   ]
  },
  {
   "cell_type": "markdown",
   "metadata": {
    "deletable": false,
    "editable": false,
    "run_control": {
     "frozen": true
    }
   },
   "source": [
    "**Exercice 2 :** Créer une fonction qui, à partir d'un nombre, renvoie son opposé."
   ]
  },
  {
   "cell_type": "code",
   "execution_count": null,
   "metadata": {},
   "outputs": [],
   "source": [
    "# Exercice ici :\n"
   ]
  },
  {
   "cell_type": "code",
   "execution_count": null,
   "metadata": {},
   "outputs": [],
   "source": [
    "# Tester cette fonction avec plusieurs valeurs :\n"
   ]
  },
  {
   "cell_type": "code",
   "execution_count": null,
   "metadata": {},
   "outputs": [],
   "source": [
    "\n"
   ]
  },
  {
   "cell_type": "markdown",
   "metadata": {
    "deletable": false,
    "editable": false,
    "run_control": {
     "frozen": true
    }
   },
   "source": [
    "*Remarque :* Les paramètres de la fonction sont appelées **Entrées** et les valeurs renvoyées par la fonction sont appelée **Sorties**."
   ]
  },
  {
   "cell_type": "markdown",
   "metadata": {
    "deletable": false,
    "editable": false,
    "run_control": {
     "frozen": true
    }
   },
   "source": [
    "**Exercice 3 :** Créer une fonction qui, à partir de deux nombres, renvoie la moyenne de ces deux nombres."
   ]
  },
  {
   "cell_type": "code",
   "execution_count": null,
   "metadata": {},
   "outputs": [],
   "source": [
    "# Exercice ici :\n",
    "def moyenne(nombre1,nombre2):\n",
    "    pass # à la place du mot pass, compléter le code de la fonction\n"
   ]
  },
  {
   "cell_type": "markdown",
   "metadata": {
    "deletable": false,
    "editable": false,
    "run_control": {
     "frozen": true
    }
   },
   "source": [
    "*Remarque :* L'instruction <span style=\"color:green;background:#eee\">&nbsp;**pass**&nbsp;</span> que l'on utilise ici pour la deuxième fois est une instruction qui... **ne fait rien** ! Elle est utile pour construire des fonctions vides, quand on prépare un projet qui en contient plusieurs et qu'on veut en écrire le squelette avant de rentrer dans le codage de chaque fonction.\n",
    "\n",
    "En effet, on peut exécuter le code et cela ne renvoie pas d'erreur, ce qui se produirait si aucune instruction n'apparaissait dans la fonction."
   ]
  },
  {
   "cell_type": "code",
   "execution_count": null,
   "metadata": {},
   "outputs": [],
   "source": [
    "# Tester cette fonction avec plusieurs valeurs :\n",
    "moyenne(5,13)\n"
   ]
  },
  {
   "cell_type": "code",
   "execution_count": null,
   "metadata": {},
   "outputs": [],
   "source": [
    "moyenne(-45.2,10**3)\n"
   ]
  },
  {
   "cell_type": "markdown",
   "metadata": {
    "deletable": false,
    "editable": false,
    "run_control": {
     "frozen": true
    }
   },
   "source": [
    "**Exercice 4 :** Créer une fonction `prixTTC` qui, à partir d'un prix hors taxes, renvoie le prix toutes taxes comprises (donc avec TVA, que l'on prendra ici à 20 %)"
   ]
  },
  {
   "cell_type": "code",
   "execution_count": null,
   "metadata": {},
   "outputs": [],
   "source": [
    "# Exercice ici :\n"
   ]
  },
  {
   "cell_type": "markdown",
   "metadata": {
    "deletable": false,
    "editable": false,
    "run_control": {
     "frozen": true
    }
   },
   "source": [
    "**Exercice 5 :** Créer une fonction `volumeCylindreDroit` qui, à partir d'un rayon et d'une hauteur, renvoie le volume d'un cylindre droit."
   ]
  },
  {
   "cell_type": "code",
   "execution_count": null,
   "metadata": {},
   "outputs": [],
   "source": [
    "# Exercice ici :\n",
    "# On a besoin de la valeur de pi pour cette fonction.\n",
    "from math import pi # on importe donc cette valeur de la bibliothèque math\n"
   ]
  },
  {
   "cell_type": "code",
   "execution_count": null,
   "metadata": {},
   "outputs": [],
   "source": [
    "# Tester cette fonction avec plusieurs valeurs :\n",
    "volumeCylindreDroit(10,15)\n"
   ]
  },
  {
   "cell_type": "code",
   "execution_count": null,
   "metadata": {},
   "outputs": [],
   "source": [
    "volumeCylindreDroit(1,1)\n"
   ]
  },
  {
   "cell_type": "markdown",
   "metadata": {
    "deletable": false,
    "editable": false,
    "run_control": {
     "frozen": true
    }
   },
   "source": [
    "**Exercice 6 :**\n",
    "\n",
    "Un gardien de phare va aux toilettes cinq fois par jour. Or les WC sont au rez-de-chaussée...\n",
    "\n",
    "Créer une fonction **hauteurParcourue** qui reçoit deux paramètres, le nombre de marches du phare et la hauteur de chaque marche (en cm), et qui affiche la phrase : \"Pour $x$ marches de $y$ cm, il parcourt $z.zz$ m par semaine.\"\n",
    "\n",
    "On n'oubliera pas :\n",
    "* qu'une semaine comporte 7 jours ;\n",
    "* qu'une fois en bas, le gardien doit remonter ;\n",
    "* que le résultat est à exprimer en mètres.\n",
    "\n"
   ]
  },
  {
   "cell_type": "code",
   "execution_count": null,
   "metadata": {},
   "outputs": [],
   "source": [
    "# Exercice ici :\n",
    "def hauteurParcourue(nombreMarches,hauteurMarches):\n",
    "    pass\n",
    "    "
   ]
  },
  {
   "cell_type": "code",
   "execution_count": null,
   "metadata": {},
   "outputs": [],
   "source": [
    "# Tester cette fonction avec plusieurs valeurs :\n",
    "hauteurParcourue(100,15)\n"
   ]
  },
  {
   "cell_type": "markdown",
   "metadata": {
    "deletable": false,
    "editable": false,
    "run_control": {
     "frozen": true
    }
   },
   "source": [
    "**Exercice 7 :** Créer une fonction **lancerDe** qui simule le tirage au sort d'un dé à six faces.\n",
    "\n",
    "Remarques :\n",
    "* Cette fonction n'a pas besoin de paramètres : on écrira **def lancerDe():** sur la première ligne\n",
    "* On se servira pour cela de la fonction **randint** de la bibliothèque **random** :"
   ]
  },
  {
   "cell_type": "code",
   "execution_count": null,
   "metadata": {},
   "outputs": [],
   "source": [
    "# Exercice ici\n",
    "from random import randint\n",
    "def lancerDe():\n",
    "    pass # à remplacer\n"
   ]
  },
  {
   "cell_type": "markdown",
   "metadata": {
    "deletable": false,
    "editable": false,
    "run_control": {
     "frozen": true
    }
   },
   "source": [
    "Pour voir comment utiliser une fonction, on peut appeler la fonction **help**, qui affiche la documentation liée à cette fonction."
   ]
  },
  {
   "cell_type": "code",
   "execution_count": null,
   "metadata": {},
   "outputs": [],
   "source": [
    "help(randint)\n"
   ]
  },
  {
   "cell_type": "code",
   "execution_count": null,
   "metadata": {},
   "outputs": [],
   "source": [
    "# Exercice ici :\n",
    "def lancerDe():\n",
    "    return randint(1,6)\n"
   ]
  },
  {
   "cell_type": "code",
   "execution_count": null,
   "metadata": {},
   "outputs": [],
   "source": [
    "# Tests ici :\n",
    "lancerDe()\n"
   ]
  },
  {
   "cell_type": "markdown",
   "metadata": {
    "deletable": false,
    "editable": false,
    "run_control": {
     "frozen": true
    }
   },
   "source": [
    "**Exercice 8 :** Créer une fonction **sommeDes** qui renvoie la somme de deux dés à six face lors d'un lancer.\n",
    "\n",
    "On utilisera pour cela les résultats de la fonction **lancerDe** faite précédemment."
   ]
  },
  {
   "cell_type": "code",
   "execution_count": null,
   "metadata": {},
   "outputs": [],
   "source": [
    "# Exercice ici :\n",
    "def sommeDes():\n",
    "    pass # à remplacer"
   ]
  },
  {
   "cell_type": "code",
   "execution_count": null,
   "metadata": {},
   "outputs": [],
   "source": [
    "# Tests ici :\n",
    "sommeDes() # renvoie forcément un nombre entre 2 (1+1) et 12 (6+6)\n"
   ]
  },
  {
   "cell_type": "markdown",
   "metadata": {
    "deletable": false,
    "editable": false,
    "run_control": {
     "frozen": true
    }
   },
   "source": [
    "## II - Portée des variables :\n",
    "\n",
    "Une variable créée par une fonction ne sera accessible que le temps de l'appel à la fonction, et uniquement par cette fonction. Par exemple : "
   ]
  },
  {
   "cell_type": "code",
   "execution_count": null,
   "metadata": {},
   "outputs": [],
   "source": [
    "variable1 = 15\n"
   ]
  },
  {
   "cell_type": "code",
   "execution_count": null,
   "metadata": {},
   "outputs": [],
   "source": [
    "variable1\n"
   ]
  },
  {
   "cell_type": "code",
   "execution_count": null,
   "metadata": {},
   "outputs": [],
   "source": [
    "def slogansMultiples(slogan,nombreRepetitions):\n",
    "    sloganFinal = slogan * nombreRepetitions\n",
    "    return sloganFinal\n",
    "\n",
    "slogansMultiples(\"Vive l'informatique ! \",5)\n"
   ]
  },
  {
   "cell_type": "markdown",
   "metadata": {
    "deletable": false,
    "editable": false,
    "run_control": {
     "frozen": true
    }
   },
   "source": [
    "Dans l'exemple ci-dessus, les variables **slogan**, **nombreRepetitions** et **sloganFinal** sont dites **locales**. Elles sont en effet inaccessibles hors de la fonction. Ainsi :"
   ]
  },
  {
   "cell_type": "code",
   "execution_count": null,
   "metadata": {},
   "outputs": [],
   "source": [
    "print(sloganFinal) # renvoie une erreur\n"
   ]
  },
  {
   "cell_type": "markdown",
   "metadata": {
    "deletable": false,
    "editable": false,
    "run_control": {
     "frozen": true
    }
   },
   "source": [
    "A contrario, une valeur déclarée hors de la fonction sera accessible tout le temps (à l'intérieur comme à l'extérieur des fonctions). On parle de variable **globale**."
   ]
  },
  {
   "cell_type": "code",
   "execution_count": null,
   "metadata": {},
   "outputs": [],
   "source": [
    "# Initialisation d'une variable globale\n",
    "variableGlobale = 15\n",
    "\n",
    "# Fonction utilisant la variable globale et une variable locale\n",
    "def atteindreVariable(variableLocale):\n",
    "    return variableGlobale + variableLocale\n",
    "\n",
    "# Application de la fonction avec variableLocale = 5\n",
    "atteindreVariable(5)\n"
   ]
  },
  {
   "cell_type": "code",
   "execution_count": null,
   "metadata": {},
   "outputs": [],
   "source": [
    "# Vérification de l'existence des variables :\n",
    "print(variableGlobale) # va bien être affichée\n",
    "print(variableLocale)  # va afficher une erreur\n",
    "# car variableLocale n'existe que le temps de l'exécution de la fonction\n"
   ]
  },
  {
   "cell_type": "markdown",
   "metadata": {
    "deletable": false,
    "editable": false,
    "run_control": {
     "frozen": true
    }
   },
   "source": [
    "Il est préférable d'éviter de donner des noms de variables globales à des variables locales. Si le cas se produit, la variable globale est ignorée le temps de la fonction."
   ]
  },
  {
   "cell_type": "code",
   "execution_count": null,
   "metadata": {},
   "outputs": [],
   "source": [
    "#Initialisation de la variable globale :\n",
    "elementGlobal = 10\n",
    "\n",
    "# Fonction utilisant deux variables locales dont une a le même nom que la variable globale\n",
    "def addition(elementLocal):\n",
    "    elementGlobal = 3 # on définit une variable locale qui a le même nom que la variable globale.\n",
    "    return elementGlobal + elementLocal\n",
    "\n",
    "# Exemple avec elementLocal = 5\n",
    "print(addition(5)) # doit renvoyer 3+5, donc 8\n",
    "\n",
    "# Vérification de la valeur de la variable elementGlobal :\n",
    "print(elementGlobal) # doit renvoyer 10\n"
   ]
  },
  {
   "cell_type": "markdown",
   "metadata": {
    "deletable": false,
    "editable": false,
    "run_control": {
     "frozen": true
    }
   },
   "source": [
    "Si l'on souhaite que la fonction puisse changer la valeur de la variable globale, il faut la déclarer globale dans la fonction :"
   ]
  },
  {
   "cell_type": "code",
   "execution_count": null,
   "metadata": {},
   "outputs": [],
   "source": [
    "#Initialisation de la variable globale :\n",
    "elementGlobal = 10\n",
    "\n",
    "# Fonction utilisant deux variables locales dont une a le même nom que la variable globale\n",
    "def addition(elementLocal):\n",
    "    global elementGlobal # indique à la fonction qu'elle a le droit de modifier la variable globale\n",
    "    elementGlobal = 3 # modifie bien la variable elementGlobal créée à l'extérieur de la fonction\n",
    "    return elementGlobal + elementLocal\n",
    "\n",
    "# Exemple avec elementLocal = 5\n",
    "print(addition(5)) # doit renvoyer 3+5, donc 8\n",
    "\n",
    "# Vérification de la valeur de la variable elementGlobal :\n",
    "print(elementGlobal) # doit renvoyer 3 désormais\n"
   ]
  },
  {
   "cell_type": "markdown",
   "metadata": {
    "deletable": false,
    "editable": false,
    "run_control": {
     "frozen": true
    }
   },
   "source": [
    "Bibliographie :\n",
    "* https://courspython.com/introduction-python.html\n",
    "* https://python.sdv.univ-paris-diderot.fr/cours-python.pdf\n",
    "* https://python.developpez.com/cours/apprendre-python-3/\n",
    "* http://hebergement.u-psud.fr/iut-orsay/Pedagogie/MPHY/Python/exercices-python3.pdf\n",
    "* https://docs.python.org/fr/3/library/functions.html (Fonctions de base de Python)"
   ]
  }
 ],
 "metadata": {
  "kernelspec": {
   "display_name": "Python 3",
   "language": "python",
   "name": "python3"
  },
  "language_info": {
   "codemirror_mode": {
    "name": "ipython",
    "version": 3
   },
   "file_extension": ".py",
   "mimetype": "text/x-python",
   "name": "python",
   "nbconvert_exporter": "python",
   "pygments_lexer": "ipython3",
   "version": "3.7.3"
  }
 },
 "nbformat": 4,
 "nbformat_minor": 2
}
