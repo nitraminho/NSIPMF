{
 "cells": [
  {
   "cell_type": "markdown",
   "metadata": {
    "deletable": false,
    "editable": false,
    "run_control": {
     "frozen": true
    }
   },
   "source": [
    "Pour le bon fonctionnement du TP, exécuter le code suivant au démarrage :\n"
   ]
  },
  {
   "cell_type": "code",
   "execution_count": 1,
   "metadata": {},
   "outputs": [
    {
     "data": {
      "text/html": [
       "<script src=\"jquery-3.5.1.min.js\"></script>\n",
       "<script src=\"test.js\"></script>\n"
      ],
      "text/plain": [
       "<IPython.core.display.HTML object>"
      ]
     },
     "metadata": {},
     "output_type": "display_data"
    }
   ],
   "source": [
    "%%HTML\n",
    "<script src=\"jquery-3.5.1.min.js\"></script>\n",
    "<script src=\"test.js\"></script>"
   ]
  },
  {
   "cell_type": "markdown",
   "metadata": {
    "deletable": false,
    "editable": false,
    "run_control": {
     "frozen": true
    }
   },
   "source": [
    "<center> <h1> TP n°5 - Listes et boucles bornées</h1></center>\n",
    "\n",
    "*Cette série de TP est l'occasion de refaire le point sur vos compétences en Python : on y reprend les bases du langage.*"
   ]
  },
  {
   "cell_type": "markdown",
   "metadata": {
    "deletable": false,
    "editable": false,
    "run_control": {
     "frozen": true
    }
   },
   "source": [
    "## I - Listes :\n",
    "\n",
    "### A - Principe :\n",
    "\n",
    "Python permet de stocker des données en séries dans un objet appelé **liste**.\n",
    "Une liste est donc une série de données **indexées** : chaque élément de la liste est associé à un numéro (un **index**). La syntaxe pour déclarer une liste est la suivante :"
   ]
  },
  {
   "cell_type": "code",
   "execution_count": 2,
   "metadata": {},
   "outputs": [
    {
     "name": "stdout",
     "output_type": "stream",
     "text": [
      "[1, 3, 5, 7, 9]\n"
     ]
    }
   ],
   "source": [
    "liste1 = [1,3,5,7,9]\n",
    "print(liste1)\n"
   ]
  },
  {
   "cell_type": "markdown",
   "metadata": {
    "deletable": false,
    "editable": false,
    "run_control": {
     "frozen": true
    }
   },
   "source": [
    "Si l'on veut accéder à un élément de la liste, on l'appelle grâce à son index.\n",
    "\n",
    "Le tout premier élément d'une liste a toujours l'index <b>0</b>.\n",
    "\n",
    "Ainsi, `liste1` a des index de 0 à 4."
   ]
  },
  {
   "cell_type": "markdown",
   "metadata": {
    "deletable": false,
    "editable": false,
    "run_control": {
     "frozen": true
    }
   },
   "source": [
    "Pour accéder au troisième élément de `liste1` (qui est donc le nombre `5`), on se réfère à son index : 2.\n",
    "\n",
    "On fait donc la commande suivante :"
   ]
  },
  {
   "cell_type": "code",
   "execution_count": 3,
   "metadata": {},
   "outputs": [
    {
     "data": {
      "text/plain": [
       "5"
      ]
     },
     "execution_count": 3,
     "metadata": {},
     "output_type": "execute_result"
    }
   ],
   "source": [
    "liste1[2]\n"
   ]
  },
  {
   "cell_type": "markdown",
   "metadata": {
    "deletable": false,
    "editable": false,
    "run_control": {
     "frozen": true
    }
   },
   "source": [
    "&rarr; Une liste peut contenir différents types de variables : booléens, entiers, flottants, textes, voire même d'autres listes !"
   ]
  },
  {
   "cell_type": "markdown",
   "metadata": {
    "deletable": false,
    "editable": false,
    "run_control": {
     "frozen": true
    }
   },
   "source": [
    "**Exercice 1 :**\n",
    "On donne : `listeTest = [6,-3,2.7,12,2,100,1,6,-1,5]`.\n",
    "\n",
    "Que renvoie `listeTest[6]` ?\n",
    "\n",
    "<center>\n",
    "    <input type=\"radio\" name=\"test1\" />2\n",
    "    <input type=\"radio\" name=\"test1\" />100\n",
    "    <input type=\"radio\" name=\"test1\" class=\"ok\" />1\n",
    "    <input type=\"radio\" name=\"test1\" />6\n",
    "</center>\n",
    "\n",
    "<div class=\"reponse1\"></div>"
   ]
  },
  {
   "cell_type": "markdown",
   "metadata": {
    "deletable": false,
    "editable": false,
    "run_control": {
     "frozen": true
    }
   },
   "source": [
    "**Exercice 2 :**\n",
    "On reprend la variable `listeTest` de l'exercice précédent.\n",
    "Quel(s) index correspond à 6 ?\n",
    "\n",
    "<center>\n",
    "    <input type=\"radio\" name=\"test2\" />0\n",
    "    <input type=\"radio\" name=\"test2\" />100\n",
    "    <input type=\"radio\" name=\"test2\" />1 et 8\n",
    "    <input type=\"radio\" name=\"test2\" class=\"ok\" />0 et 7\n",
    "</center>\n",
    "\n",
    "<div class=\"reponse2\"></div>"
   ]
  },
  {
   "cell_type": "markdown",
   "metadata": {
    "deletable": false,
    "editable": false,
    "run_control": {
     "frozen": true
    }
   },
   "source": [
    "**Exercice 3 :**\n",
    "Quel est l'index du 5<sup>ème</sup> élément d'une liste ?\n",
    "\n",
    "<center>\n",
    "    <input type=\"radio\" name=\"test3\" class=\"ok\" />4\n",
    "    <input type=\"radio\" name=\"test3\" />5\n",
    "    <input type=\"radio\" name=\"test3\" />6\n",
    "</center>\n",
    "\n",
    "<div class=\"reponse3\"></div>"
   ]
  },
  {
   "cell_type": "markdown",
   "metadata": {
    "deletable": false,
    "editable": false,
    "run_control": {
     "frozen": true
    }
   },
   "source": [
    "**Exercice 4 :**\n",
    "Construire ci-après la liste des 5 premières puissances de 10, puis la liste des 7 jours de la semaine."
   ]
  },
  {
   "cell_type": "code",
   "execution_count": 11,
   "metadata": {},
   "outputs": [],
   "source": [
    "listePuissances10 = [1,10,100,1000,10000]\n",
    "listeJoursSemaine = [\"lundi\",\"mar\",\"mer\",\"jeu\",\"ven\",\"sam\",\"dim\"]\n"
   ]
  },
  {
   "cell_type": "code",
   "execution_count": null,
   "metadata": {},
   "outputs": [],
   "source": [
    "Accéder à différentes valeurs de ces listes :"
   ]
  },
  {
   "cell_type": "code",
   "execution_count": 12,
   "metadata": {},
   "outputs": [
    {
     "data": {
      "text/plain": [
       "1000"
      ]
     },
     "execution_count": 12,
     "metadata": {},
     "output_type": "execute_result"
    }
   ],
   "source": [
    "#Tests ici :\n",
    "listePuissances10[3]"
   ]
  },
  {
   "cell_type": "markdown",
   "metadata": {
    "deletable": false,
    "editable": false,
    "run_control": {
     "frozen": true
    }
   },
   "source": [
    "**Exercice 5 :** Créer une fonction <span style=\"color:blue\">**semaine**</span> qui affiche les 7 jours de la semaine en se servant de la liste créée précédemment."
   ]
  },
  {
   "cell_type": "code",
   "execution_count": 13,
   "metadata": {},
   "outputs": [],
   "source": [
    "# Exercice ici :\n",
    "def semaine():\n",
    "    index = 0\n",
    "    while index < 7:\n",
    "        print(listeJoursSemaine[index])\n",
    "        index += 1\n"
   ]
  },
  {
   "cell_type": "code",
   "execution_count": 14,
   "metadata": {},
   "outputs": [
    {
     "name": "stdout",
     "output_type": "stream",
     "text": [
      "lundi\n",
      "mar\n",
      "mer\n",
      "jeu\n",
      "ven\n",
      "sam\n",
      "dim\n"
     ]
    }
   ],
   "source": [
    "# Tests ici :\n",
    "semaine()"
   ]
  },
  {
   "cell_type": "markdown",
   "metadata": {
    "deletable": false,
    "editable": false,
    "run_control": {
     "frozen": true
    }
   },
   "source": [
    "### B - La fonction range :\n",
    "\n",
    "Une fonction très utile pour construire des listes de nombres consécutifs est la fonction <span style=\"color:green\">**range**</span>.\n",
    "\n",
    "<span style=\"background:#eee;font-family:mono\"><span style=\"color:green\">range</span>(debut, fin, pas)</span>\n",
    "crée une liste du nombre entier `debut` au nombre entier qui précède `fin` avec un certain `pas`.\n",
    "\n",
    "Prenons les exemples ci-après :"
   ]
  },
  {
   "cell_type": "code",
   "execution_count": 15,
   "metadata": {},
   "outputs": [
    {
     "data": {
      "text/plain": [
       "[4, 6, 8]"
      ]
     },
     "execution_count": 15,
     "metadata": {},
     "output_type": "execute_result"
    }
   ],
   "source": [
    "listeTest1 = range(4,10,2) # Crée la liste des nombres de 4 (inclus) à 10 (exclus) en allant de 2 en 2\n",
    "                           # En réalité range ne fournit pas tout à fait une liste :\n",
    "list(listeTest1)           # pour le visualiser, on le transforme en liste avec l'instruction list()\n"
   ]
  },
  {
   "cell_type": "code",
   "execution_count": 16,
   "metadata": {},
   "outputs": [
    {
     "data": {
      "text/plain": [
       "[4, 5, 6, 7, 8, 9]"
      ]
     },
     "execution_count": 16,
     "metadata": {},
     "output_type": "execute_result"
    }
   ],
   "source": [
    "listeTest2 = range(4,10)   # Le pas (troisième paramètre est facultatif).\n",
    "list(listeTest2)           # Si on ne le précise pas, la liste est crée de 1 en 1\n"
   ]
  },
  {
   "cell_type": "code",
   "execution_count": 17,
   "metadata": {},
   "outputs": [
    {
     "data": {
      "text/plain": [
       "[0, 1, 2, 3, 4, 5, 6]"
      ]
     },
     "execution_count": 17,
     "metadata": {},
     "output_type": "execute_result"
    }
   ],
   "source": [
    "listeTest3 = range(7)      # On peut même ne préciser qu'un seul nombre à la fonction range\n",
    "list(listeTest3)           # Dans ce cas, la liste est celle de tous les entiers de 0 jusqu'à la valeur donnée (exclue)\n"
   ]
  },
  {
   "cell_type": "markdown",
   "metadata": {
    "deletable": false,
    "editable": false,
    "run_control": {
     "frozen": true
    }
   },
   "source": [
    "**Exercice 6 :** Créer la liste des multiples de 4 compris entre 1 et 100 (inclus)."
   ]
  },
  {
   "cell_type": "code",
   "execution_count": 19,
   "metadata": {},
   "outputs": [
    {
     "data": {
      "text/plain": [
       "[0,\n",
       " 4,\n",
       " 8,\n",
       " 12,\n",
       " 16,\n",
       " 20,\n",
       " 24,\n",
       " 28,\n",
       " 32,\n",
       " 36,\n",
       " 40,\n",
       " 44,\n",
       " 48,\n",
       " 52,\n",
       " 56,\n",
       " 60,\n",
       " 64,\n",
       " 68,\n",
       " 72,\n",
       " 76,\n",
       " 80,\n",
       " 84,\n",
       " 88,\n",
       " 92,\n",
       " 96,\n",
       " 100]"
      ]
     },
     "execution_count": 19,
     "metadata": {},
     "output_type": "execute_result"
    }
   ],
   "source": [
    "# Liste ici :\n",
    "list(range(0,101,4))"
   ]
  },
  {
   "cell_type": "markdown",
   "metadata": {
    "deletable": false,
    "editable": false,
    "run_control": {
     "frozen": true
    }
   },
   "source": [
    "**Exercice 7 :** On souhaite construire la liste `[0,1,2,3,4,5,6]` via la fonction `range`.\n",
    "\n",
    "Parmi les 4 commandes suivantes, laquelle ne produit pas ce qu'il faut ?\n",
    "\n",
    "<center>\n",
    "    <input type=\"radio\" name=\"test7\" class=\"ok\" />\n",
    "    <span style=\"background:#eee;font-family:mono\">range(0,6)</span>\n",
    "    <input type=\"radio\" name=\"test7\" />\n",
    "    <span style=\"background:#eee;font-family:mono\">range(0,7)</span>\n",
    "    <input type=\"radio\" name=\"test7\" />\n",
    "    <span style=\"background:#eee;font-family:mono\">range(0,7,1)</span>\n",
    "    <input type=\"radio\" name=\"test7\" />\n",
    "    <span style=\"background:#eee;font-family:mono\">range(7)</span>\n",
    "</center>\n",
    "\n",
    "<div class=\"reponse7\"></div>"
   ]
  },
  {
   "cell_type": "markdown",
   "metadata": {
    "deletable": false,
    "editable": false,
    "run_control": {
     "frozen": true
    }
   },
   "source": [
    "**Exercice 8 :** On souhaite construire la liste `[-7,-2,3,8,13,18]` via la fonction `range`.\n",
    "\n",
    "Parmi les 4 commandes suivantes, laquelle ne produit pas ce qu'il faut ?\n",
    "\n",
    "<center>\n",
    "    <input type=\"radio\" name=\"test8\" class=\"ok\" />\n",
    "    <span style=\"background:#eee;font-family:mono\">range(-7,18,5)</span>\n",
    "    <input type=\"radio\" name=\"test8\" />\n",
    "    <span style=\"background:#eee;font-family:mono\">range(-7,19,5)</span>\n",
    "    <input type=\"radio\" name=\"test8\" />\n",
    "    <span style=\"background:#eee;font-family:mono\">range(-7,20,5)</span>\n",
    "    <input type=\"radio\" name=\"test8\" />\n",
    "    <span style=\"background:#eee;font-family:mono\">range(-7,21,5)</span>\n",
    "</center>\n",
    "\n",
    "<div class=\"reponse8\"></div>\n",
    "\n"
   ]
  },
  {
   "cell_type": "markdown",
   "metadata": {
    "deletable": false,
    "editable": false,
    "run_control": {
     "frozen": true
    }
   },
   "source": [
    "**Exercice 9 :**\n",
    "1. Créer la liste des nombres impairs entre 12 et 50.\n",
    "2. Créer une boucle while qui affiche chaque terme de cette liste."
   ]
  },
  {
   "cell_type": "code",
   "execution_count": 22,
   "metadata": {},
   "outputs": [
    {
     "data": {
      "text/plain": [
       "[13, 15, 17, 19, 21, 23, 25, 27, 29, 31, 33, 35, 37, 39, 41, 43, 45, 47, 49]"
      ]
     },
     "execution_count": 22,
     "metadata": {},
     "output_type": "execute_result"
    }
   ],
   "source": [
    "# Liste ici :\n",
    "list(range(13,50,2))"
   ]
  },
  {
   "cell_type": "code",
   "execution_count": 23,
   "metadata": {},
   "outputs": [
    {
     "name": "stdout",
     "output_type": "stream",
     "text": [
      "13\n",
      "15\n",
      "17\n",
      "19\n",
      "21\n",
      "23\n",
      "25\n",
      "27\n",
      "29\n",
      "31\n",
      "33\n",
      "35\n",
      "37\n",
      "39\n",
      "41\n",
      "43\n",
      "45\n",
      "47\n",
      "49\n"
     ]
    }
   ],
   "source": [
    "# Boucle ici :\n",
    "nombreImpair = 13\n",
    "while nombreImpair < 50:\n",
    "    print(nombreImpair)\n",
    "    nombreImpair += 2"
   ]
  },
  {
   "cell_type": "markdown",
   "metadata": {
    "deletable": false,
    "editable": false,
    "run_control": {
     "frozen": true
    }
   },
   "source": [
    "**Exercice 10 :**\n",
    "Créer une fonction <span style=\"color:blue\">**afficherListe**</span> qui prend une liste en paramètre et affiche successivement tous les termes d'une liste.\n",
    "\n",
    "&rarr; On se servira d'une boucle while et de l'instruction `len(liste)` qui permet de donner le nombre d'éléments d'une liste.\n",
    "\n",
    "(`len` vient du mot *length* = longueur)"
   ]
  },
  {
   "cell_type": "code",
   "execution_count": 24,
   "metadata": {},
   "outputs": [],
   "source": [
    "def afficherListe(liste):\n",
    "    index = 0\n",
    "    while index < len(liste):\n",
    "        print(liste[index])\n",
    "        index += 1\n"
   ]
  },
  {
   "cell_type": "code",
   "execution_count": 26,
   "metadata": {},
   "outputs": [
    {
     "name": "stdout",
     "output_type": "stream",
     "text": [
      "4\n",
      "8\n",
      "12\n",
      "16\n",
      "20\n",
      "24\n",
      "28\n",
      "32\n",
      "36\n",
      "40\n",
      "44\n",
      "48\n",
      "52\n",
      "56\n",
      "60\n",
      "64\n",
      "68\n",
      "72\n",
      "76\n",
      "80\n",
      "84\n",
      "88\n",
      "92\n",
      "96\n",
      "100\n",
      "lundi\n",
      "mar\n",
      "mer\n",
      "jeu\n",
      "ven\n",
      "sam\n",
      "dim\n",
      "1\n",
      "3\n",
      "text\n",
      "9.0\n"
     ]
    }
   ],
   "source": [
    "# Tests ici :\n",
    "afficherListe(range(4,101,4)) # fonctionne pour les multiples de 4 entre 1 et 100 inclus\n",
    "afficherListe(listeJoursSemaine) # fonctionne aussi pour les jours de la semaine\n",
    "afficherListe([1,3,\"text\",9.0])"
   ]
  },
  {
   "cell_type": "markdown",
   "metadata": {
    "deletable": false,
    "editable": false,
    "run_control": {
     "frozen": true
    }
   },
   "source": [
    "## II - Boucles bornées :\n",
    "\n",
    "Le parcours d'une liste est assez contraignant avec une boucle **while**.\n",
    "\n",
    "Lorsqu'on sait à l'avance sur combien d'itérations (ou sur quelle liste de nombres) on veut travailler, on fait appel à la structure de **boucle bornée**.\n",
    "\n",
    "\n",
    "<div style=\"border:solid 1px;max-width:300px;margin:20px auto;padding:10px;\">\n",
    "    <b>Pour</b> <em>chacune des valeurs d'une liste</em><br />\n",
    "    <b>Faire</b> <em>bloc d'instructions</em>\n",
    "</div>\n",
    "\n",
    "En Python, la syntaxe est la suivante :"
   ]
  },
  {
   "cell_type": "code",
   "execution_count": 1,
   "metadata": {},
   "outputs": [
    {
     "name": "stdout",
     "output_type": "stream",
     "text": [
      "1\n",
      "5\n",
      "3\n",
      "2\n"
     ]
    }
   ],
   "source": [
    "# Initialisation d'une liste :\n",
    "listeExemple = [1,5,3,2]\n",
    "\n",
    "# Boucle bornée :\n",
    "for valeur in listeExemple:\n",
    "    print(valeur)\n",
    "    "
   ]
  },
  {
   "cell_type": "code",
   "execution_count": 4,
   "metadata": {},
   "outputs": [
    {
     "name": "stdout",
     "output_type": "stream",
     "text": [
      "8\n",
      "3\n",
      "1\n",
      "-4\n"
     ]
    }
   ],
   "source": [
    "# Remarque : on peut directement faire appel à la liste dans l'appel de boucle :\n",
    "for valeur in [8,3,1,-4]:\n",
    "    print(valeur)\n"
   ]
  },
  {
   "cell_type": "code",
   "execution_count": 5,
   "metadata": {},
   "outputs": [
    {
     "name": "stdout",
     "output_type": "stream",
     "text": [
      "0\n",
      "3\n",
      "6\n",
      "9\n",
      "12\n",
      "15\n"
     ]
    }
   ],
   "source": [
    "# Remarque : on peut même directement faire appel à la fonction range dans l'appel de boucle :\n",
    "for valeur in range(0,16,3):\n",
    "    print(valeur)\n",
    "    "
   ]
  },
  {
   "cell_type": "markdown",
   "metadata": {
    "deletable": false,
    "editable": false,
    "run_control": {
     "frozen": true
    }
   },
   "source": [
    "**Exercice 11 :**\n",
    "Que renvoie le code suivant ?\n",
    "```\n",
    "for element in [1,5,3]:\n",
    "    print(1 - element)\n",
    "```\n",
    "\n",
    "\n",
    "<center>\n",
    "    <input type=\"radio\" name=\"test11\" /> \n",
    "$\\begin{matrix}1\\\\5\\\\3\\\\ \\end{matrix}$\n",
    "    <input type=\"radio\" name=\"test11\" />\n",
    "$\\begin{matrix}1\\\\4\\\\ \\end{matrix}$\n",
    "    <input type=\"radio\" name=\"test11\" class=\"ok\" />\n",
    "$\\begin{matrix}0\\\\-4\\\\-2\\\\ \\end{matrix}$\n",
    "    <input type=\"radio\" name=\"test11\" />\n",
    "$\\begin{matrix}0\\\\-3\\\\ \\end{matrix}$\n",
    "</center>\n",
    "\n",
    "<div class=\"reponse11\"></div>\n"
   ]
  },
  {
   "cell_type": "markdown",
   "metadata": {
    "deletable": false,
    "editable": false,
    "run_control": {
     "frozen": true
    }
   },
   "source": [
    "**Exercice 12 :**\n",
    "Que renvoie le code suivant ?\n",
    "```\n",
    "from math import sqrt\n",
    "for element in range(-8,3,1):\n",
    "    print(1 - element + sqrt(element))\n",
    "```\n",
    "\n",
    "Répondre ci-dessous :"
   ]
  },
  {
   "cell_type": "raw",
   "metadata": {},
   "source": []
  },
  {
   "cell_type": "markdown",
   "metadata": {},
   "source": [
    "Corrigé <span title=\"une erreur (de domaine mathématique) car la racine carrée de -8 n'existe pas\" style=\"cursor:pointer;color:red\">ici</span>."
   ]
  },
  {
   "cell_type": "markdown",
   "metadata": {
    "deletable": false,
    "editable": false,
    "run_control": {
     "frozen": true
    }
   },
   "source": [
    "**Exercice 13 :** Afficher successivement les 100 premiers multiples de 3 (0 inclus)."
   ]
  },
  {
   "cell_type": "code",
   "execution_count": 9,
   "metadata": {},
   "outputs": [
    {
     "name": "stdout",
     "output_type": "stream",
     "text": [
      "0\n",
      "3\n",
      "6\n",
      "9\n",
      "12\n",
      "15\n",
      "18\n",
      "21\n",
      "24\n",
      "27\n",
      "30\n",
      "33\n",
      "36\n",
      "39\n",
      "42\n",
      "45\n",
      "48\n",
      "51\n",
      "54\n",
      "57\n",
      "60\n",
      "63\n",
      "66\n",
      "69\n",
      "72\n",
      "75\n",
      "78\n",
      "81\n",
      "84\n",
      "87\n",
      "90\n",
      "93\n",
      "96\n",
      "99\n",
      "102\n",
      "105\n",
      "108\n",
      "111\n",
      "114\n",
      "117\n",
      "120\n",
      "123\n",
      "126\n",
      "129\n",
      "132\n",
      "135\n",
      "138\n",
      "141\n",
      "144\n",
      "147\n",
      "150\n",
      "153\n",
      "156\n",
      "159\n",
      "162\n",
      "165\n",
      "168\n",
      "171\n",
      "174\n",
      "177\n",
      "180\n",
      "183\n",
      "186\n",
      "189\n",
      "192\n",
      "195\n",
      "198\n",
      "201\n",
      "204\n",
      "207\n",
      "210\n",
      "213\n",
      "216\n",
      "219\n",
      "222\n",
      "225\n",
      "228\n",
      "231\n",
      "234\n",
      "237\n",
      "240\n",
      "243\n",
      "246\n",
      "249\n",
      "252\n",
      "255\n",
      "258\n",
      "261\n",
      "264\n",
      "267\n",
      "270\n",
      "273\n",
      "276\n",
      "279\n",
      "282\n",
      "285\n",
      "288\n",
      "291\n",
      "294\n",
      "297\n"
     ]
    }
   ],
   "source": [
    "# Exercice ici :\n",
    "#for valeur in range(0,300,3):\n",
    "#    print(valeur)\n",
    "\n",
    "for valeur in range(0,100,1):\n",
    "    print(valeur*3)\n",
    "    "
   ]
  },
  {
   "cell_type": "markdown",
   "metadata": {
    "deletable": false,
    "editable": false,
    "run_control": {
     "frozen": true
    }
   },
   "source": [
    "**Exercice 14 :** Stocker le texte \"anticonstitutionnellement\" dans une variable **chaine**, puis afficher chacune des lettres du texte grâce à une boucle *for\n",
    "\n",
    "*Remarque* : une chaîne de caractères (**string**) peut être assimilée à une liste de caractères.\n",
    "\n",
    "Ainsi : la variable **\"truc\"** correspond à la liste **[\"t\",\"r\",\"u\",\"c\"]**."
   ]
  },
  {
   "cell_type": "code",
   "execution_count": 10,
   "metadata": {},
   "outputs": [
    {
     "name": "stdout",
     "output_type": "stream",
     "text": [
      "a\n",
      "n\n",
      "t\n",
      "i\n",
      "c\n",
      "o\n",
      "n\n",
      "s\n",
      "t\n",
      "i\n",
      "t\n",
      "u\n",
      "t\n",
      "i\n",
      "o\n",
      "n\n",
      "n\n",
      "e\n",
      "l\n",
      "l\n",
      "e\n",
      "m\n",
      "e\n",
      "n\n",
      "t\n"
     ]
    }
   ],
   "source": [
    "# Exercice ici :\n",
    "chaine = \"anticonstitutionnellement\"\n",
    "\n",
    "for element in chaine:\n",
    "    print(element)"
   ]
  },
  {
   "cell_type": "markdown",
   "metadata": {
    "deletable": false,
    "editable": false,
    "run_control": {
     "frozen": true
    }
   },
   "source": [
    "**Exercice 15 :** Calculer la somme des 1000 premiers nombres entiers naturels."
   ]
  },
  {
   "cell_type": "code",
   "execution_count": 13,
   "metadata": {},
   "outputs": [
    {
     "name": "stdout",
     "output_type": "stream",
     "text": [
      "499500\n"
     ]
    }
   ],
   "source": [
    "# Exercice ici :\n",
    "somme = 0\n",
    "for valeur in range(1000):\n",
    "    somme += valeur\n",
    "print(somme)"
   ]
  },
  {
   "cell_type": "markdown",
   "metadata": {
    "deletable": false,
    "editable": false,
    "run_control": {
     "frozen": true
    }
   },
   "source": [
    "**Exercice 16 :** Compléter la fonction <span style=\"color:blue\">**scoreTexte**</span> qui pour un texte donné, renvoie un score, sachant que :\n",
    "* les voyelles valent 1 point ;\n",
    "* le z vaut 10 point ;\n",
    "* les autres consonnes valent 5 points. "
   ]
  },
  {
   "cell_type": "code",
   "execution_count": 14,
   "metadata": {},
   "outputs": [],
   "source": [
    "# Exercice ici :\n",
    "def scoreTexte(texte):\n",
    "    score = 0\n",
    "    for lettre in texte:\n",
    "        if lettre == \"z\":\n",
    "            score += 10\n",
    "        elif lettre in [\"a\",\"e\",\"i\",\"o\",\"u\",\"y\"]:\n",
    "            score += 1\n",
    "        else:\n",
    "            score += 5\n",
    "    return score\n",
    "\n",
    "            \n"
   ]
  },
  {
   "cell_type": "code",
   "execution_count": 15,
   "metadata": {},
   "outputs": [
    {
     "data": {
      "text/plain": [
       "22"
      ]
     },
     "execution_count": 15,
     "metadata": {},
     "output_type": "execute_result"
    }
   ],
   "source": [
    "# Tests ici :\n",
    "scoreTexte(\"lambda\")"
   ]
  },
  {
   "cell_type": "markdown",
   "metadata": {
    "deletable": false,
    "editable": false,
    "run_control": {
     "frozen": true
    }
   },
   "source": [
    "**Exercice 17** : Créer une fonction qui prend en entrée deux nombres entiers *nombre1* et *nombre2* et qui renvoie en sortie la somme de tous les nombres entre *nombre1* et *nombre2* (inclus). "
   ]
  },
  {
   "cell_type": "code",
   "execution_count": null,
   "metadata": {},
   "outputs": [],
   "source": [
    "# Exercice ici :\n"
   ]
  },
  {
   "cell_type": "code",
   "execution_count": null,
   "metadata": {},
   "outputs": [],
   "source": [
    "# Tests ici :\n"
   ]
  },
  {
   "cell_type": "markdown",
   "metadata": {
    "deletable": false,
    "editable": false,
    "run_control": {
     "frozen": true
    }
   },
   "source": [
    "**Exercice 18** : Faire une fonction qui prend en entrée deux nombres entiers *nombre1* et *nombre2* et qui renvoie en sortie la somme de tous les nombres **pairs** entre *nombre1* et *nombre2* (inclus). "
   ]
  },
  {
   "cell_type": "code",
   "execution_count": null,
   "metadata": {},
   "outputs": [],
   "source": [
    "# Exercice ici :\n"
   ]
  },
  {
   "cell_type": "code",
   "execution_count": null,
   "metadata": {},
   "outputs": [],
   "source": [
    "# Tests ici :\n"
   ]
  },
  {
   "cell_type": "markdown",
   "metadata": {
    "deletable": false,
    "editable": false,
    "run_control": {
     "frozen": true
    }
   },
   "source": [
    "## III - Interruption de boucle :\n"
   ]
  },
  {
   "cell_type": "markdown",
   "metadata": {
    "deletable": false,
    "editable": false,
    "run_control": {
     "frozen": true
    }
   },
   "source": [
    "Il peut être parfois utile d'interrompre une boucle dans certaines situations.\n",
    "\n",
    "Par exemple, si l'on souhaite parcourir une liste et s'arrêter dès qu'un terme est trouvé. L'instruction qui le permet est <span style=\"color:green\">**break** :</span>"
   ]
  },
  {
   "cell_type": "code",
   "execution_count": null,
   "metadata": {},
   "outputs": [],
   "source": [
    "listeFruits = ['pomme','poire','fraise','framboise','mangue','papaye']\n",
    "print(listeFruits)\n"
   ]
  },
  {
   "cell_type": "code",
   "execution_count": null,
   "metadata": {},
   "outputs": [],
   "source": [
    "# Parcours de la liste jusqu'au premier fruit exotique :\n",
    "for fruit in listeFruits:\n",
    "    print(fruit)\n",
    "    if(fruit == 'mangue'):\n",
    "        print('Premier fruit exotique : on sort de la liste')\n",
    "        break\n",
    "        "
   ]
  },
  {
   "cell_type": "markdown",
   "metadata": {
    "deletable": false,
    "editable": false,
    "run_control": {
     "frozen": true
    }
   },
   "source": [
    "**Exercice 19 :**\n",
    "Créer une fonction <span style=\"color:blue\">**estPresent**</span> qui prend deux paramètres `valeur` et `liste` et qui retourne `True` si `valeur` est présent dans `liste` ou `False` dans le cas contraire."
   ]
  },
  {
   "cell_type": "code",
   "execution_count": null,
   "metadata": {},
   "outputs": [],
   "source": [
    "# Programmation for et break :\n"
   ]
  },
  {
   "cell_type": "code",
   "execution_count": null,
   "metadata": {},
   "outputs": [],
   "source": [
    "# Tests :\n"
   ]
  },
  {
   "cell_type": "code",
   "execution_count": null,
   "metadata": {},
   "outputs": [],
   "source": [
    "# Programmation avec while :\n"
   ]
  },
  {
   "cell_type": "code",
   "execution_count": null,
   "metadata": {},
   "outputs": [],
   "source": []
  },
  {
   "cell_type": "markdown",
   "metadata": {
    "deletable": false,
    "editable": false,
    "run_control": {
     "frozen": true
    }
   },
   "source": [
    "L'instruction `break` permet d'interrompre une boucle `while` ou une boucle `for`.\n",
    "\n"
   ]
  },
  {
   "cell_type": "markdown",
   "metadata": {
    "deletable": false,
    "editable": false,
    "run_control": {
     "frozen": true
    }
   },
   "source": [
    "**Exercice 20 :**\n",
    "On donne le code suivant :\n",
    "```\n",
    "i = 10\n",
    "while i < 20:\n",
    "    if i % 7 = 4:\n",
    "        break\n",
    "print(i)\n",
    "```\n",
    "Quelle valeur est affichée par cet algorithme ?\n",
    "Combien d'itérations sont effectuées avant que la boucle while soit interrompue ?\n"
   ]
  },
  {
   "cell_type": "raw",
   "metadata": {},
   "source": [
    "Répondre ici :\n"
   ]
  },
  {
   "cell_type": "markdown",
   "metadata": {
    "deletable": false,
    "editable": false,
    "run_control": {
     "frozen": true
    }
   },
   "source": [
    "Bibliographie :\n",
    "* https://courspython.com/introduction-python.html\n",
    "* https://python.sdv.univ-paris-diderot.fr/cours-python.pdf\n",
    "* https://python.developpez.com/cours/apprendre-python-3/\n",
    "* http://hebergement.u-psud.fr/iut-orsay/Pedagogie/MPHY/Python/exercices-python3.pdf\n",
    "* https://docs.python.org/fr/3/library/functions.html (Fonctions de base de Python)"
   ]
  }
 ],
 "metadata": {
  "kernelspec": {
   "display_name": "Python 3",
   "language": "python",
   "name": "python3"
  },
  "language_info": {
   "codemirror_mode": {
    "name": "ipython",
    "version": 3
   },
   "file_extension": ".py",
   "mimetype": "text/x-python",
   "name": "python",
   "nbconvert_exporter": "python",
   "pygments_lexer": "ipython3",
   "version": "3.7.3"
  }
 },
 "nbformat": 4,
 "nbformat_minor": 2
}
